{
 "cells": [
  {
   "cell_type": "markdown",
   "metadata": {},
   "source": [
    "<span style=\"font-size:3em;\">Ch5: The Mechanics of Learning\n",
    "</span>\n",
    "\n",
    "# 5.1 A timeless lesson in modeling\n",
    "\n",
    " We can argue that learning from data presumes the underlying model is not engineered to solve a specific problem and is instead capable of approximating a much wider family of functions\n",
    " \n",
    "  In this book, we’re interested in models that are not engineered for solving a specific narrow task, but that can be automatically adapted to specialize themselves for\n",
    "any one of many similar tasks using input and output pairs—in other words, general\n",
    "models trained on data relevant to the specific task at hand. In particular, PyTorch is\n",
    "designed to make it easy to create models for which the derivatives of the fitting error,\n",
    "with respect to the parameters, can be expressed analytically\n",
    "\n",
    " In this book, we’re interested in models that are not engineered for solving a specific narrow task, but that can be automatically adapted to specialize themselves for\n",
    "any one of many similar tasks using input and output pairs—in other words, general\n",
    "models trained on data relevant to the specific task at hand. In particular, PyTorch is\n",
    "designed to make it easy to create models for which the derivatives of the fitting error,\n",
    "with respect to the parameters, can be expressed analytically.  \n",
    "\n",
    "In order to make sure we get the key concepts right, we’ll start with a model\n",
    "that is a lot simpler than a deep neural network\n",
    "\n",
    "# 5.2 Learning is just parameter estimation\n",
    "\n",
    "Given input data and the corresponding desired outputs (ground truth), as\n",
    "well as initial values for the weights, the model is fed input data (forward pass), and a\n",
    "measure of the error is evaluated by comparing the resulting outputs to the ground\n",
    "truth. In order to optimize the parameter of the model—its weights—the change in\n",
    "the error following a unit change in weights (that is, the gradient of the error with\n",
    "respect to the parameters) is computed using the chain rule for the derivative of a\n",
    "composite function (backward pass). The value of the weights is then updated in the\n",
    "direction that leads to a decrease in the error\n",
    "\n",
    "When we start, we’ll be doing everything by hand,\n",
    "but by the end of the chapter we’ll be letting PyTorch do all the heavy lifting for us."
   ]
  },
  {
   "cell_type": "code",
   "execution_count": 4,
   "metadata": {},
   "outputs": [],
   "source": [
    "import torch\n",
    "import matplotlib.pyplot as plt\n",
    "\n",
    "%matplotlib inline"
   ]
  },
  {
   "cell_type": "code",
   "execution_count": 3,
   "metadata": {},
   "outputs": [
    {
     "data": {
      "text/plain": [
       "tensor([ 0.5000, 14.0000, 15.0000, 28.0000, 11.0000,  8.0000,  3.0000, -4.0000,\n",
       "         6.0000, 13.0000, 21.0000])"
      ]
     },
     "execution_count": 3,
     "metadata": {},
     "output_type": "execute_result"
    }
   ],
   "source": [
    "#We will start by using temperature data \n",
    "t_c = [0.5, 14.0, 15.0, 28.0, 11.0, 8.0, 3.0, -4.0, 6.0, 13.0, 21.0]\n",
    "t_u = [35.7, 55.9, 58.2, 81.9, 56.3, 48.9, 33.9, 21.8, 48.4, 60.4, 68.4]\n",
    "\n",
    "t_c = torch.tensor(t_c)\n",
    "t_u = torch.tensor(t_u)"
   ]
  },
  {
   "cell_type": "code",
   "execution_count": 9,
   "metadata": {},
   "outputs": [
    {
     "data": {
      "text/plain": [
       "<matplotlib.collections.PathCollection at 0x122b89d50>"
      ]
     },
     "execution_count": 9,
     "metadata": {},
     "output_type": "execute_result"
    },
    {
     "data": {
      "image/png": "[encoded data removed]",
      "text/plain": [
       "<Figure size 432x288 with 1 Axes>"
      ]
     },
     "metadata": {
      "needs_background": "light"
     },
     "output_type": "display_data"
    }
   ],
   "source": [
    "#quick \n",
    "plt.scatter(t_c,t_u)"
   ]
  },
  {
   "cell_type": "markdown",
   "metadata": {},
   "source": [
    " The\n",
    "two may be linearly related—that is, multiplying t_u by a factor and adding a constant,\n",
    "we may get the temperature in Celsius:\n",
    "<b>t_c = w * t_u + b</b>\n",
    "\n",
    " Let’s flesh it out again: we have a model with some unknown parameters, and we\n",
    "need to estimate those parameters so that the error between predicted outputs and\n",
    "measured values is as low as possible. We notice that we still need to exactly define a\n",
    "measure of the error. Such a measure, which we refer to as the loss function, should be\n",
    "high if the error is high and should ideally be as low as possible for a perfect match.\n",
    "Our optimization process should therefore aim at finding w and b so that the loss\n",
    "function is at a minimum.\n",
    "\n",
    "\n",
    "# 5.3 Less loss is what we want\n",
    "A loss function (or cost function) is a function that computes a single numerical value\n",
    "that the learning process will attempt to minimize. \n",
    "\n",
    "In our case,\n",
    "that would be the difference between the predicted temperatures t_p output by our\n",
    "model and the actual measurements: t_p – t\n",
    "\n",
    "<b> Mean Squared Error</b> is a common loss function for regression.\n",
    "\n",
    "MSE has a clear minimum at 0 and grows monotically as the prediction moves away from the true value in both directions. Because steepness of the growth also monotically increases away from the minimum, it is a <b>convex</b> function. Since our model is linear, the loss as a function of w and b are also convex\n",
    "\n",
    "\n",
    " Cases where the loss is a convex function of the model parameters are usually great to deal with because we can find a minimum very efficiently through specialized algorithms. However, we will instead use less powerful but more\n",
    "generally applicable methods in this chapter. We do so because for the deep neural networks we are ultimately interested in, the loss is not a convex function of the inputs."
   ]
  },
  {
   "cell_type": "markdown",
   "metadata": {},
   "source": [
    " For our two loss functions <b>|t_p – t_c| and (t_p – t_c)^2</b>, as shown in figure 5.4,\n",
    "we notice that the square of the differences behaves more nicely around the minimum: the derivative of the error-squared loss with respect to t_p is zero when t_p\n",
    "equals t_c. The absolute value, on the other hand, has an undefined derivative right\n",
    "where we’d like to converge. This is less of an issue in practice than it looks like, but\n",
    "we’ll stick to the square of differences for the time being.\n",
    "\n",
    "## 5.3.1 From problem back to PyTorch\n",
    "\n",
    " Now we need to set the learning process in motion and feed it actual data. \n",
    " We’ve already created our data tensors, so now let’s write out the model as a\n",
    "Python function:"
   ]
  },
  {
   "cell_type": "code",
   "execution_count": 10,
   "metadata": {},
   "outputs": [],
   "source": [
    "def model(t_u, w, b):\n",
    "    return w * t_u + b"
   ]
  },
  {
   "cell_type": "markdown",
   "metadata": {},
   "source": [
    "We’re expecting t_u, w, and b to be the input tensor, weight parameter, and bias\n",
    "parameter, respectively. In our model, the parameters will be PyTorch scalars (aka zero-dimensional tensors), and the product operation will use broadcasting to yield\n",
    "the returned tensors.\n",
    "\n",
    "Now lets define loss:"
   ]
  },
  {
   "cell_type": "code",
   "execution_count": 12,
   "metadata": {},
   "outputs": [],
   "source": [
    "def loss_fn(t_p,t_c):\n",
    "    '''\n",
    "    Mean Squared Loss\n",
    "    '''\n",
    "    squared_dffs = (t_p - t_c)**2\n",
    "    return squared_dffs.mean()"
   ]
  },
  {
   "cell_type": "code",
   "execution_count": 51,
   "metadata": {},
   "outputs": [
    {
     "data": {
      "text/plain": [
       "tensor([35.7000, 55.9000, 58.2000, 81.9000, 56.3000, 48.9000, 33.9000, 21.8000,\n",
       "        48.4000, 60.4000, 68.4000])"
      ]
     },
     "execution_count": 51,
     "metadata": {},
     "output_type": "execute_result"
    }
   ],
   "source": [
    "#Now lets initialize w and b and create the model\n",
    "w = torch.ones(())\n",
    "b = torch.zeros(())\n",
    "\n",
    "t_p = model(t_u, w, b)\n",
    "t_p"
   ]
  },
  {
   "cell_type": "code",
   "execution_count": 52,
   "metadata": {},
   "outputs": [
    {
     "data": {
      "text/plain": [
       "tensor(1763.8846)"
      ]
     },
     "execution_count": 52,
     "metadata": {},
     "output_type": "execute_result"
    }
   ],
   "source": [
    "#loss\n",
    "loss = loss_fn(t_p, t_c)\n",
    "loss"
   ]
  },
  {
   "cell_type": "markdown",
   "metadata": {},
   "source": [
    "<b>Broadcasting:</b>\n",
    "\n",
    "\n",
    "We mentioned broadcasting in chapter 3, and we promised to look at it more carefully\n",
    "when we need it. In our example, we have two scalars (zero-dimensional tensors) w\n",
    "and b, and we multiply them with and add them to vectors (one-dimensional tensors)\n",
    "of length b.\n",
    "Usually—and in early versions of PyTorch, too—we can only use element-wise binary\n",
    "operations such as addition, subtraction, multiplication, and division for arguments\n",
    "of the same shape. The entries in matching positions in each of the tensors will be\n",
    "used to calculate the corresponding entry in the result tensor.\n",
    "\n",
    "\n",
    "Broadcasting, which is popular in NumPy and adapted by PyTorch, relaxes this assumption for most binary operations. It uses the following rules to match tensor elements:\n",
    "- For each index dimension, counted from the back, if one of the operands is\n",
    "size 1 in that dimension, PyTorch will use the single entry along this dimension with each of the entries in the other tensor along this dimension.\n",
    "\n",
    "\n",
    "- If both sizes are greater than 1, they must be the same, and natural matching\n",
    "is used.\n",
    "\n",
    "\n",
    "- If one of the tensors has more index dimensions than the other, the entirety\n",
    "of the other tensor will be used for each entry along these dimensions.\n",
    "\n",
    "This sounds complicated (and it can be error-prone if we don’t pay close attention, which\n",
    "is why we have named the tensor dimensions as shown in section 3.4), but usually,\n",
    "we can either write down the tensor dimensions to see what happens or picture what\n",
    "happens by using space dimensions to show the broadcasting, as in the following figure.\n",
    "\n",
    "<b>Note:</b> This is for element-wise multiplication below not matrix multiplication(dot product)"
   ]
  },
  {
   "cell_type": "code",
   "execution_count": 53,
   "metadata": {},
   "outputs": [
    {
     "name": "stdout",
     "output_type": "stream",
     "text": [
      "shapes: x: torch.Size([]) y: torch.Size([3, 1])\n",
      "z: torch.Size([1, 3]), a: torch.Size([2, 1, 1])\n"
     ]
    }
   ],
   "source": [
    "x = torch.ones(())\n",
    "y = torch.ones(3,1)\n",
    "z = torch.ones(1,3)\n",
    "a = torch.ones(2,1,1)\n",
    "\n",
    "print(f'shapes: x: {x.shape} y: {y.shape}')\n",
    "print(f\"z: {z.shape}, a: {a.shape}\")"
   ]
  },
  {
   "cell_type": "code",
   "execution_count": 54,
   "metadata": {},
   "outputs": [
    {
     "name": "stdout",
     "output_type": "stream",
     "text": [
      "x * y: torch.Size([3, 1])\n",
      "y * z: torch.Size([3, 3])\n",
      "y * z * a: torch.Size([2, 3, 3])\n"
     ]
    }
   ],
   "source": [
    "print(\"x * y:\", (x * y).shape)\n",
    "print(\"y * z:\", (y * z).shape)\n",
    "print(\"y * z * a:\", (y * z * a).shape)"
   ]
  },
  {
   "cell_type": "markdown",
   "metadata": {},
   "source": [
    "# 5.4 Down along the gradient\n",
    "\n",
    "We’ll optimize the loss function with respect to the parameters using the gradient\n",
    "descent algorithm.  Gradient descent is actually a very simple idea, and it scales up surprisingly well to large neural network models with millions of parameters.\n",
    "\n",
    "## 5.4.1 Decreasing loss\n",
    "\n",
    "The idea to to compute the rate of change of the loss with respect to each parameter, and modify each parameter in the direction of decreasing loss"
   ]
  },
  {
   "cell_type": "code",
   "execution_count": 69,
   "metadata": {},
   "outputs": [],
   "source": [
    "delta = 0.1\n",
    "\n",
    "#this backwards slash allows us to write on the next line, its called line continutation character\n",
    "loss_rate_of_change_w = \\\n",
    "(loss_fn(model(t_u, w + delta, b), t_c) -\n",
    "loss_fn(model(t_u, w - delta, b), t_c)) / (2.0 * delta)"
   ]
  },
  {
   "cell_type": "code",
   "execution_count": 70,
   "metadata": {
    "scrolled": true
   },
   "outputs": [
    {
     "data": {
      "text/plain": [
       "tensor(4517.2979)"
      ]
     },
     "execution_count": 70,
     "metadata": {},
     "output_type": "execute_result"
    }
   ],
   "source": [
    "loss_rate_of_change_w"
   ]
  },
  {
   "cell_type": "markdown",
   "metadata": {},
   "source": [
    "This is saying that in the neighborhood of the current values of w and b, a unit\n",
    "increase in w leads to some change in the loss. If the change is negative, then we need\n",
    "to increase w to minimize the loss, whereas if the change is positive, we need to\n",
    "decrease w\n",
    "\n",
    "It is also wise to\n",
    "change the parameters slowly in general, because the rate of change could be dramatically different at a distance from the neighborhood of the current w value. Therefore,\n",
    "we typically should scale the rate of change by a small factor. This scaling factor has\n",
    "many names; the one we use in machine learning is <b>learning_rate</b>:"
   ]
  },
  {
   "cell_type": "code",
   "execution_count": 75,
   "metadata": {},
   "outputs": [],
   "source": [
    "learning_rate = 1e-2\n",
    "\n",
    "w = w - learning_rate* loss_rate_of_change_w\n",
    "\n",
    "#Can do the same with b:\n",
    "loss_rate_of_change_b = \\\n",
    "(loss_fn(model(t_u, w, b + delta), t_c) -\n",
    "loss_fn(model(t_u, w, b - delta), t_c)) / (2.0 * delta)\n",
    "\n",
    "b=b- learning_rate * loss_rate_of_change_b"
   ]
  },
  {
   "cell_type": "markdown",
   "metadata": {},
   "source": [
    "This represents the basic parameter-update step for gradient descent. By reiterating\n",
    "these evaluations (and provided we choose a small enough learning rate), we will\n",
    "converge to an optimal value of the parameters for which the loss computed on the\n",
    "given data is minimal.\n",
    "\n",
    "## 5.4.2 Getting analytical\n",
    "\n",
    "In a model with two or more parameters like the one we’re\n",
    "dealing with, we compute the individual derivatives of the loss with respect to each\n",
    "parameter and put them in a vector of derivatives: the gradient.\n",
    "\n",
    "In order to compute the derivative of the loss with respect to a parameter, we can\n",
    "apply the chain rule and compute the derivative of the loss with respect to its input\n",
    "(which is the output of the model), times the derivative of the model with respect to\n",
    "the parameter:\n",
    "\n",
    "\n",
    "\n",
    "dloss_fn / d w = (dloss_fn / d t_p) * (d t_p / d w)  \n"
   ]
  },
  {
   "cell_type": "code",
   "execution_count": 76,
   "metadata": {},
   "outputs": [],
   "source": [
    "def loss_fn(t_p,t_c):\n",
    "    squared_diffs = (t_p - t_c)**2\n",
    "    return squared_diffs.mean()\n",
    "\n",
    "#Remembering that d x^2 / d x = 2 x, we get\n",
    "def dloss_fn(t_p, t_c):\n",
    "    dsg_diffs = 2 * (t_p - t_c) / t_p.size(0)\n",
    "    return dsg_diffs"
   ]
  },
  {
   "cell_type": "code",
   "execution_count": 77,
   "metadata": {},
   "outputs": [],
   "source": [
    "#Applying the derivatives to the model from earlier get\n",
    "def dmodel_dw(t_u, w, b):\n",
    "    return t_u\n",
    "def dmodel_db(t_u,w,b):\n",
    "    return 1.0"
   ]
  },
  {
   "cell_type": "markdown",
   "metadata": {},
   "source": [
    "<b>DEFINING THE GRADIENT FUNCTION: </b>\n",
    "Putting all of this together, the function returning the gradient of the loss with respect\n",
    "to w and b is"
   ]
  },
  {
   "cell_type": "code",
   "execution_count": 79,
   "metadata": {},
   "outputs": [],
   "source": [
    "def grad_fn(t_u, t_c, t_p, w, b):\n",
    "    dloss_dtp = dloss_fn(t_p,t_c)\n",
    "    dloss_dw = dloss_dtp * dmodel_dw(t_u, w, b)\n",
    "    dloss_db = dloss_dtp * dmodel_db(t_u,w,b)\n",
    "    return torch.stack([dloss_dw.sum(), dloss_db.sum()])"
   ]
  },
  {
   "cell_type": "markdown",
   "metadata": {},
   "source": [
    "## 5.4.3 Iterating to fit the model\n",
    "\n",
    "We now have everything in place to optimize our parameters. Starting from a tentative\n",
    "value for a parameter, we can iteratively apply updates to it for a fixed number of iterations, or until w and b stop changing. There are several stopping criteria; for now,\n",
    "we’ll stick to a fixed number of iterations.\n",
    "\n",
    "<b>THE TRAINING LOOP: </b>\n",
    "Since we’re at it, let’s introduce another piece of terminology. We call a training iteration during which we update the parameters for all of our training samples an epoch."
   ]
  },
  {
   "cell_type": "code",
   "execution_count": 80,
   "metadata": {},
   "outputs": [],
   "source": [
    "#The complete training loop looks like this \n",
    "def training_loop(n_epochs, learning_rate, params, t_u, t_c, print_params=True):\n",
    "    for epoch in range(1, n_epochs + 1):\n",
    "        w, b = params\n",
    "        t_p = model(t_u, w, b) # forward pass\n",
    "        loss = loss_fn(t_p, t_c) \n",
    "        grad = grad_fn(t_u, t_c, t_p, w, b) # Backward pass\n",
    "        \n",
    "        params = params - learning_rate * grad\n",
    "        \n",
    "        print('Epoch %d, Loss %f' % (epoch, float(loss)))\n",
    "        \n",
    "    return params"
   ]
  },
  {
   "cell_type": "code",
   "execution_count": 85,
   "metadata": {},
   "outputs": [],
   "source": [
    "#Here is a training loop that gives us more info for each epoch\n",
    "def training_loop(n_epochs, learning_rate, params, t_u, t_c,\n",
    "                  print_params=True):\n",
    "    for epoch in range(1, n_epochs + 1):\n",
    "        w, b = params\n",
    "\n",
    "        t_p = model(t_u, w, b)  # <1>\n",
    "        loss = loss_fn(t_p, t_c)\n",
    "        grad = grad_fn(t_u, t_c, t_p, w, b)  # <2>\n",
    "\n",
    "        params = params - learning_rate * grad\n",
    "\n",
    "        if epoch in {1, 2, 3, 10, 11, 99, 100, 4000, 5000}:  # <3>\n",
    "            print('Epoch %d, Loss %f' % (epoch, float(loss)))\n",
    "            if print_params:\n",
    "                print('\\n    Params:', params)\n",
    "                print('    Grad:  ', grad,'\\n')\n",
    "        if epoch in {4, 12, 101}:\n",
    "            print('...')\n",
    "\n",
    "        if not torch.isfinite(loss).all():\n",
    "            break  # <3>\n",
    "            \n",
    "    return params"
   ]
  },
  {
   "cell_type": "code",
   "execution_count": 86,
   "metadata": {},
   "outputs": [
    {
     "name": "stdout",
     "output_type": "stream",
     "text": [
      "Epoch 1, Loss 1763.884644\n",
      "\n",
      "    Params: tensor([-44.1730,  -0.8260])\n",
      "    Grad:   tensor([4517.2969,   82.6000]) \n",
      "\n",
      "Epoch 2, Loss 5802485.500000\n",
      "\n",
      "    Params: tensor([2568.4014,   45.1637])\n",
      "    Grad:   tensor([-261257.4219,   -4598.9712]) \n",
      "\n",
      "Epoch 3, Loss 19408035840.000000\n",
      "\n",
      "    Params: tensor([-148527.7344,   -2616.3933])\n",
      "    Grad:   tensor([15109614.0000,   266155.7188]) \n",
      "\n",
      "...\n",
      "Epoch 10, Loss 90901154706620645225508955521810432.000000\n",
      "\n",
      "    Params: tensor([3.2144e+17, 5.6621e+15])\n",
      "    Grad:   tensor([-3.2700e+19, -5.7600e+17]) \n",
      "\n",
      "Epoch 11, Loss inf\n",
      "\n",
      "    Params: tensor([-1.8590e+19, -3.2746e+17])\n",
      "    Grad:   tensor([1.8912e+21, 3.3313e+19]) \n",
      "\n"
     ]
    },
    {
     "data": {
      "text/plain": [
       "tensor([-1.8590e+19, -3.2746e+17])"
      ]
     },
     "execution_count": 86,
     "metadata": {},
     "output_type": "execute_result"
    }
   ],
   "source": [
    "#Now lets train our model\n",
    "training_loop(n_epochs=100,\n",
    "             learning_rate=1e-2,\n",
    "             params=torch.tensor([1.0,0.0]),\n",
    "             t_u=t_u,\n",
    "             t_c=t_c)"
   ]
  },
  {
   "cell_type": "markdown",
   "metadata": {},
   "source": [
    "<b> OVERTRAINING: </b>  Wait, what happened? Our training process literally blew up, leading to losses becoming inf. This is a clear sign that params is receiving updates that are too large, and\n",
    "their values start oscillating back and forth as each update overshoots and the next\n",
    "overcorrects even more. The optimization process is unstable: it diverges instead of\n",
    "converging to a minimum. We want to see smaller and smaller updates to params, not\n",
    "larger\n",
    "\n",
    "How can we limit the magnitude of learning_rate * grad? Well, that looks easy. We\n",
    "could simply choose a smaller learning_rate, and indeed, the learning rate is one of\n",
    "the things we typically change when training does not go as well as we would like.8\n",
    " \n",
    " We usually change learning rates by orders of magnitude, so we might try with 1e-3 or\n",
    "1e-4, which would decrease the magnitude of the updates by orders of magnitude.\n",
    "Let’s go with 1e-4 and see how it works out:"
   ]
  },
  {
   "cell_type": "code",
   "execution_count": 87,
   "metadata": {},
   "outputs": [
    {
     "name": "stdout",
     "output_type": "stream",
     "text": [
      "Epoch 1, Loss 1763.884644\n",
      "\n",
      "    Params: tensor([ 0.5483, -0.0083])\n",
      "    Grad:   tensor([4517.2969,   82.6000]) \n",
      "\n",
      "Epoch 2, Loss 323.090546\n",
      "\n",
      "    Params: tensor([ 0.3623, -0.0118])\n",
      "    Grad:   tensor([1859.5493,   35.7843]) \n",
      "\n",
      "Epoch 3, Loss 78.929634\n",
      "\n",
      "    Params: tensor([ 0.2858, -0.0135])\n",
      "    Grad:   tensor([765.4667,  16.5122]) \n",
      "\n",
      "...\n",
      "Epoch 10, Loss 29.105242\n",
      "\n",
      "    Params: tensor([ 0.2324, -0.0166])\n",
      "    Grad:   tensor([1.4803, 3.0544]) \n",
      "\n",
      "Epoch 11, Loss 29.104168\n",
      "\n",
      "    Params: tensor([ 0.2323, -0.0169])\n",
      "    Grad:   tensor([0.5781, 3.0384]) \n",
      "\n",
      "...\n",
      "Epoch 99, Loss 29.023582\n",
      "\n",
      "    Params: tensor([ 0.2327, -0.0435])\n",
      "    Grad:   tensor([-0.0533,  3.0226]) \n",
      "\n",
      "Epoch 100, Loss 29.022669\n",
      "\n",
      "    Params: tensor([ 0.2327, -0.0438])\n",
      "    Grad:   tensor([-0.0532,  3.0226]) \n",
      "\n"
     ]
    },
    {
     "data": {
      "text/plain": [
       "tensor([ 0.2327, -0.0438])"
      ]
     },
     "execution_count": 87,
     "metadata": {},
     "output_type": "execute_result"
    }
   ],
   "source": [
    "#again with lr=1e-4\n",
    "training_loop(n_epochs=100,\n",
    "             learning_rate=1e-4,\n",
    "             params=torch.tensor([1.0,0.0]),\n",
    "             t_u=t_u,\n",
    "             t_c=t_c)"
   ]
  },
  {
   "cell_type": "markdown",
   "metadata": {},
   "source": [
    "Nice—the behavior is now stable. But there’s another problem: the updates to parameters are very small, so the loss decreases very slowly and eventually stalls. We could\n",
    "obviate this issue by making learning_rate adaptive: that is, change according to the\n",
    "magnitude of updates. There are optimization schemes that do that, and we’ll see one\n",
    "toward the end of this chapter.\n",
    "\n",
    "\n",
    " However, there’s another potential troublemaker in the update term: the gradient\n",
    "itself. Let’s go back and look at grad at epoch 1 during optimization. \n",
    "\n",
    "## 5.4.4 Normalizing inputs\n",
    "\n",
    "We can see that the first-epoch gradient for the weight is about 50 times larger than\n",
    "the gradient for the bias. This means the weight and bias live in differently scaled\n",
    "spaces. If this is the case, a learning rate that’s large enough to meaningfully update\n",
    "one will be so large as to be unstable for the other; and a rate that’s appropriate for\n",
    "the other won’t be large enough to meaningfully change the first. That means we’re\n",
    "not going to be able to update our parameters unless we change something about our\n",
    "formulation of the problem. We could have individual learning rates for each parameter, but for models with many parameters, this would be too much to bother with\n",
    "\n",
    "\n",
    " There’s a simpler way to keep things in check: changing the inputs so that the gradients aren’t quite so different. We can make sure the range of the input doesn’t get\n",
    "too far from the range of –1.0 to 1.0, roughly speaking."
   ]
  },
  {
   "cell_type": "code",
   "execution_count": 88,
   "metadata": {},
   "outputs": [
    {
     "name": "stdout",
     "output_type": "stream",
     "text": [
      "Epoch 1, Loss 80.364342\n",
      "\n",
      "    Params: tensor([1.7761, 0.1064])\n",
      "    Grad:   tensor([-77.6140, -10.6400]) \n",
      "\n",
      "Epoch 2, Loss 37.574917\n",
      "\n",
      "    Params: tensor([2.0848, 0.1303])\n",
      "    Grad:   tensor([-30.8623,  -2.3864]) \n",
      "\n",
      "Epoch 3, Loss 30.871077\n",
      "\n",
      "    Params: tensor([2.2094, 0.1217])\n",
      "    Grad:   tensor([-12.4631,   0.8587]) \n",
      "\n",
      "...\n",
      "Epoch 10, Loss 29.030487\n",
      "\n",
      "    Params: tensor([ 2.3232, -0.0710])\n",
      "    Grad:   tensor([-0.5355,  2.9295]) \n",
      "\n",
      "Epoch 11, Loss 28.941875\n",
      "\n",
      "    Params: tensor([ 2.3284, -0.1003])\n",
      "    Grad:   tensor([-0.5240,  2.9264]) \n",
      "\n",
      "...\n",
      "Epoch 99, Loss 22.214186\n",
      "\n",
      "    Params: tensor([ 2.7508, -2.4910])\n",
      "    Grad:   tensor([-0.4453,  2.5208]) \n",
      "\n",
      "Epoch 100, Loss 22.148710\n",
      "\n",
      "    Params: tensor([ 2.7553, -2.5162])\n",
      "    Grad:   tensor([-0.4446,  2.5165]) \n",
      "\n"
     ]
    },
    {
     "data": {
      "text/plain": [
       "tensor([ 2.7553, -2.5162])"
      ]
     },
     "execution_count": 88,
     "metadata": {},
     "output_type": "execute_result"
    }
   ],
   "source": [
    "#Lets try a simple fix by multiplying t_u by 0.1\n",
    "t_un = 0.1 * t_u\n",
    "\n",
    "training_loop(\n",
    "n_epochs = 100,\n",
    "learning_rate = 1e-2,\n",
    "params = torch.tensor([1.0, 0.0]),\n",
    "t_u = t_un,\n",
    "t_c = t_c)"
   ]
  },
  {
   "cell_type": "code",
   "execution_count": 89,
   "metadata": {},
   "outputs": [
    {
     "name": "stdout",
     "output_type": "stream",
     "text": [
      "Epoch 1, Loss 80.364342\n",
      "Epoch 2, Loss 37.574917\n",
      "Epoch 3, Loss 30.871077\n",
      "...\n",
      "Epoch 10, Loss 29.030487\n",
      "Epoch 11, Loss 28.941875\n",
      "...\n",
      "Epoch 99, Loss 22.214186\n",
      "Epoch 100, Loss 22.148710\n",
      "...\n",
      "Epoch 4000, Loss 2.927680\n",
      "Epoch 5000, Loss 2.927648\n"
     ]
    },
    {
     "data": {
      "text/plain": [
       "tensor([  5.3671, -17.3012])"
      ]
     },
     "execution_count": 89,
     "metadata": {},
     "output_type": "execute_result"
    }
   ],
   "source": [
    "#Let’s run the loop for enough iterations to see the changes in params get small. We’ll change n_epochs to 5,000:\n",
    "params = training_loop(\n",
    "n_epochs = 5000,\n",
    "learning_rate = 1e-2,\n",
    "params = torch.tensor([1.0, 0.0]),\n",
    "t_u = t_un,\n",
    "t_c = t_c,\n",
    "print_params = False)\n",
    "\n",
    "params"
   ]
  },
  {
   "cell_type": "markdown",
   "metadata": {},
   "source": [
    "We are using a Python trick called argument unpacking here: *params means to pass the\n",
    "elements of params as individual arguments. In Python, this is usually done with lists\n",
    "or tuples, but we can also use argument unpacking with PyTorch tensors, which are\n",
    "split along the leading dimension. So here, model(t_un, *params) is equivalent to\n",
    "model(t_un, params[0], params[1])."
   ]
  },
  {
   "cell_type": "code",
   "execution_count": 94,
   "metadata": {},
   "outputs": [
    {
     "data": {
      "image/png": "[encoded data removed]",
      "text/plain": [
       "<Figure size 600x400 with 1 Axes>"
      ]
     },
     "metadata": {
      "needs_background": "light"
     },
     "output_type": "display_data"
    }
   ],
   "source": [
    "#Lets try plotting the data\n",
    "import matplotlib.pyplot as plt\n",
    "\n",
    "%matplotlib inline\n",
    "\n",
    "t_p = model(t_un, *params) #The *params means we are using argument unpacking\n",
    "\n",
    "\n",
    "fig = plt.figure(dpi=100)\n",
    "plt.xlabel(\"Temperature (°Fahrenheit)\")\n",
    "plt.ylabel(\"Temperature (°Celsius)\")\n",
    "\n",
    "plt.plot(t_u.numpy(), t_p.detach().numpy())  #plotiing the raw unknown values\n",
    "plt.plot(t_u.numpy(), t_c.numpy(), 'o');"
   ]
  },
  {
   "cell_type": "markdown",
   "metadata": {},
   "source": [
    "# 5.5 PyTorch’s autograd: Backpropagating all things\n",
    "We just saw a simple example of backpropagation: we computed the gradient of a composition of functions—the model and the loss—with\n",
    "respect to their innermost parameters (w and b) by propagating derivatives backward\n",
    "using the chain rule. The basic requirement here is that all functions we’re dealing\n",
    "with can be differentiated analytically. If this is the case, we can compute the gradient—what we earlier called “the rate of change of the loss”—with respect to the\n",
    "parameters in one sweep.\n",
    "\n",
    "## 5.5.1 Computing the gradient automatically\n",
    "\n",
    "This is when PyTorch tensors come to the rescue, with a PyTorch component called\n",
    "autograd. PyTorch tensors can remember where they come from, in terms of the operations and\n",
    "parent tensors that originated them, and they can automatically provide the chain of\n",
    "derivatives of such operations with respect to their inputs. This means we won’t need\n",
    "to derive our model by hand;10 given a forward expression, no matter how nested,\n",
    "PyTorch will automatically provide the gradient of that expression with respect to its\n",
    "input parameters.\n",
    "\n",
    "\n",
    "<b>APPLYING AUTOGRAD</b>"
   ]
  },
  {
   "cell_type": "code",
   "execution_count": 101,
   "metadata": {},
   "outputs": [],
   "source": [
    "def model(t_u, w, b):\n",
    "    return w * t_u + b\n",
    "\n",
    "\n",
    "def loss_fn(t_p, t_c):\n",
    "    squared_diffs = (t_p - t_c)**2\n",
    "    return squared_diffs.mean()\n",
    "\n",
    "#Initialize tensor\n",
    "params = torch.tensor([1.0,0.0], requires_grad=True)"
   ]
  },
  {
   "cell_type": "markdown",
   "metadata": {},
   "source": [
    "USING THE GRAD ATTRIBUTE\n",
    "Notice the requires_grad=True argument to the tensor constructor? That argument\n",
    "is telling PyTorch to track the entire family tree of tensors resulting from operations\n",
    "on params. In other words, any tensor that will have params as an ancestor will have\n",
    "access to the chain of functions that were called to get from params to that tensor. In\n",
    "case these functions are differentiable (and most PyTorch tensor operations will be),\n",
    "the value of the derivative will be automatically populated as a grad attribute of the\n",
    "params tensor.\n",
    "\n",
    "\n",
    " In general, all PyTorch tensors have an attribute named grad. Normally, it’s None:"
   ]
  },
  {
   "cell_type": "code",
   "execution_count": 103,
   "metadata": {
    "scrolled": true
   },
   "outputs": [
    {
     "data": {
      "text/plain": [
       "True"
      ]
     },
     "execution_count": 103,
     "metadata": {},
     "output_type": "execute_result"
    }
   ],
   "source": [
    "params.grad is None"
   ]
  },
  {
   "cell_type": "markdown",
   "metadata": {},
   "source": [
    "All we have to do to populate it is to start with a tensor with requires_grad set to\n",
    "True, then call the model and compute the loss, and then call backward on the loss\n",
    "tensor:"
   ]
  },
  {
   "cell_type": "code",
   "execution_count": 104,
   "metadata": {},
   "outputs": [
    {
     "data": {
      "text/plain": [
       "tensor([4517.2969,   82.6000])"
      ]
     },
     "execution_count": 104,
     "metadata": {},
     "output_type": "execute_result"
    }
   ],
   "source": [
    "loss = loss_fn(model(t_u, *params), t_c)\n",
    "loss.backward()\n",
    "\n",
    "params.grad"
   ]
  },
  {
   "cell_type": "markdown",
   "metadata": {},
   "source": [
    "At this point, the grad attribute of params contains the derivatives of the loss with\n",
    "respect to each element of params.\n",
    " \n",
    " When we compute our loss while the parameters w and b require gradients, in\n",
    "addition to performing the actual computation, PyTorch creates the autograd graph\n",
    "with the operations as nodes. When we call loss.backward(), PyTorch traverses this graph in the reverse\n",
    "direction to compute the gradients, as shown by the arrows in the bottom row of\n",
    "the figure. "
   ]
  },
  {
   "cell_type": "markdown",
   "metadata": {},
   "source": [
    "<b> ACCUMULATING GRAD FUNCTIONS</b>\n",
    "\n",
    "We could have any number of tensors with requires_grad set to True and any composition of functions. In this case, PyTorch would compute the derivatives of the loss\n",
    "throughout the chain of functions (the computation graph) and accumulate their values in the grad attribute of those tensors (the leaf nodes of the graph).\n",
    "\n",
    "\n",
    "<b> Alert! Big gotcha ahead. This is something PyTorch newcomers—and a lot of more\n",
    "experienced folks, too—trip up on regularly. We just wrote accumulate, not store.\n",
    "WARNING Calling backward will lead derivatives to accumulate at leaf nodes.\n",
    "We need to zero the gradient explicitly after using it for parameter updates. </b>\n",
    "\n",
    "Let’s repeat together: calling backward will lead derivatives to accumulate at leaf nodes.\n",
    "So if backward was called earlier, the loss is evaluated again, backward is called again\n",
    "(as in any training loop), and the gradient at each leaf is accumulated (that is,\n",
    "summed) on top of the one computed at the previous iteration, which leads to an\n",
    "incorrect value for the gradient.\n",
    "\n",
    "\n",
    " In order to prevent this from occurring, <b>we need to zero the gradient explicitly at each\n",
    "iteration</b>. We can do this easily using the in-place zero_ method:"
   ]
  },
  {
   "cell_type": "code",
   "execution_count": 105,
   "metadata": {},
   "outputs": [],
   "source": [
    "if params.grad is not None:\n",
    "    params.grad.zero_()"
   ]
  },
  {
   "cell_type": "markdown",
   "metadata": {},
   "source": [
    "<b>NOTE:</b> You might be curious why zeroing the gradient is a required step\n",
    "instead of zeroing happening automatically whenever we call backward.\n",
    "Doing it this way provides more flexibility and control when working with gradients in complicated models."
   ]
  },
  {
   "cell_type": "code",
   "execution_count": 110,
   "metadata": {},
   "outputs": [],
   "source": [
    "#Now lets put it all together\n",
    "\n",
    "def training_loop(n_epochs, learning_rate, params, t_u, t_c):\n",
    "    for epoch in range(1, n_epochs + 1):\n",
    "        if params.grad is not None:\n",
    "            params.grad.zero_()\n",
    "            \n",
    "        t_p = model(t_u, *params)\n",
    "        loss = loss_fn(t_p, t_c)\n",
    "        loss.backward()\n",
    "\n",
    "\n",
    "        with torch.no_grad():  #So we dont accumlate gradients in the backward pass\n",
    "            params -= learning_rate * params.grad\n",
    "\n",
    "        if epoch % 500 == 0:\n",
    "            print('Epoch %d, Loss %f' % (epoch, float(loss)))\n",
    "    return params"
   ]
  },
  {
   "cell_type": "markdown",
   "metadata": {},
   "source": [
    "Note that our code updating params is not quite as straightforward as we might have\n",
    "expected. First, we are wrap the update in a\n",
    "no_grad context using the Python with statement. This means within the with block,\n",
    "the PyTorch autograd mechanism should look away:\n",
    "that is, not add edges to the forward graph. In fact, when we are executing this bit of code, the forward graph that\n",
    "PyTorch records is consumed when we call backward, leaving us with the params leaf\n",
    "node. But now we want to change this leaf node before we start building a fresh forward graph on top of it. While this use case is usually wrapped inside the optimizers\n",
    "we discuss in section 5.5.2, we will take a closer look when we see another common use\n",
    "of no_grad in section 5.5.4.\n",
    "\n",
    "\n",
    "\n",
    " Second, we update params in place. This means we keep the same params tensor\n",
    "around but subtract our update from it. When using autograd, we usually avoid inplace updates because PyTorch’s autograd engine might need the values we would be\n",
    "modifying for the backward pass. Here, however, we are operating without autograd,\n",
    "and it is beneficial to keep the params tensor. Not replacing the parameters by assigning new tensors to their variable name will become crucial when we register our\n",
    "parameters with the optimizer in section 5.5.2."
   ]
  },
  {
   "cell_type": "code",
   "execution_count": 111,
   "metadata": {},
   "outputs": [
    {
     "name": "stdout",
     "output_type": "stream",
     "text": [
      "Epoch 500, Loss 7.860116\n",
      "Epoch 1000, Loss 3.828538\n",
      "Epoch 1500, Loss 3.092191\n",
      "Epoch 2000, Loss 2.957697\n",
      "Epoch 2500, Loss 2.933134\n",
      "Epoch 3000, Loss 2.928648\n",
      "Epoch 3500, Loss 2.927830\n",
      "Epoch 4000, Loss 2.927679\n",
      "Epoch 4500, Loss 2.927652\n",
      "Epoch 5000, Loss 2.927647\n"
     ]
    },
    {
     "data": {
      "text/plain": [
       "tensor([  5.3671, -17.3012], requires_grad=True)"
      ]
     },
     "execution_count": 111,
     "metadata": {},
     "output_type": "execute_result"
    }
   ],
   "source": [
    "#Lets try the full thing\n",
    "training_loop(\n",
    "n_epochs = 5000,\n",
    "learning_rate = 1e-2,\n",
    "params = torch.tensor([1.0, 0.0], requires_grad=True),  #adding requires_grad=True is key \n",
    "t_u = t_un,\n",
    "t_c = t_c)"
   ]
  },
  {
   "cell_type": "markdown",
   "metadata": {},
   "source": [
    "## 5.5.2 Optimizers a la carte\n",
    "\n",
    " The torch module has an optim submodule where we can find classes implementing different\n",
    "optimization algorithms. This saves us from the boilerplate busywork\n",
    "of having to update each and every parameter to our model ourselves. Here’s an abridged list"
   ]
  },
  {
   "cell_type": "code",
   "execution_count": 113,
   "metadata": {},
   "outputs": [
    {
     "data": {
      "text/plain": [
       "['ASGD',\n",
       " 'Adadelta',\n",
       " 'Adagrad',\n",
       " 'Adam',\n",
       " 'AdamW',\n",
       " 'Adamax',\n",
       " 'LBFGS',\n",
       " 'Optimizer',\n",
       " 'RMSprop',\n",
       " 'Rprop',\n",
       " 'SGD',\n",
       " 'SparseAdam',\n",
       " '__builtins__',\n",
       " '__cached__',\n",
       " '__doc__',\n",
       " '__file__',\n",
       " '__loader__',\n",
       " '__name__',\n",
       " '__package__',\n",
       " '__path__',\n",
       " '__spec__',\n",
       " 'lr_scheduler']"
      ]
     },
     "execution_count": 113,
     "metadata": {},
     "output_type": "execute_result"
    }
   ],
   "source": [
    "import torch.optim as optim\n",
    "\n",
    "dir(optim)"
   ]
  },
  {
   "cell_type": "markdown",
   "metadata": {},
   "source": [
    "Every optimizer constructor takes a list of parameters (aka PyTorch tensors, typically\n",
    "with requires_grad set to True) as the first input. All parameters passed to the optimizer are retained inside the optimizer object so the optimizer can update their values and access their grad attribute"
   ]
  },
  {
   "cell_type": "markdown",
   "metadata": {},
   "source": [
    "Each optimizer exposes two methods: zero_grad and step. \n",
    "- <b>zero_grad:</b> zeroes the\n",
    "grad attribute of all the parameters passed to the optimizer upon construction. \n",
    "- <b>step:</b>\n",
    "updates the value of those parameters according to the optimization strategy implemented by the specific optimizer."
   ]
  },
  {
   "cell_type": "code",
   "execution_count": 125,
   "metadata": {},
   "outputs": [],
   "source": [
    "#Lets create params and an optimizer\n",
    "params = torch.tensor([1.0,0.0], requires_grad=True)\n",
    "\n",
    "learning_rate = 1e-5\n",
    "optimizer = optim.SGD([params], lr=learning_rate)"
   ]
  },
  {
   "cell_type": "markdown",
   "metadata": {},
   "source": [
    "Here SGD stands for stochastic gradient descent. Actually, the optimizer itself is exactly a\n",
    "vanilla gradient descent (as long as the momentum argument is set to 0.0, which is the\n",
    "default). The term stochastic comes from the fact that the gradient is typically obtained\n",
    "by averaging over a random subset of all input samples, called a minibatch. However, the\n",
    "optimizer does not know if the loss was evaluated on all the samples (vanilla) or a random subset of them (stochastic), so the algorithm is literally the same in the two cases."
   ]
  },
  {
   "cell_type": "code",
   "execution_count": 126,
   "metadata": {},
   "outputs": [
    {
     "data": {
      "text/plain": [
       "tensor([1., 0.], requires_grad=True)"
      ]
     },
     "execution_count": 126,
     "metadata": {},
     "output_type": "execute_result"
    }
   ],
   "source": [
    "params"
   ]
  },
  {
   "cell_type": "code",
   "execution_count": 127,
   "metadata": {},
   "outputs": [
    {
     "data": {
      "text/plain": [
       "tensor([ 9.5483e-01, -8.2600e-04], requires_grad=True)"
      ]
     },
     "execution_count": 127,
     "metadata": {},
     "output_type": "execute_result"
    }
   ],
   "source": [
    "#Lets try it out\n",
    "t_p = model(t_u, *params)\n",
    "loss = loss_fn(t_p, t_c)\n",
    "loss.backward()\n",
    "\n",
    "optimizer.step()\n",
    "params"
   ]
  },
  {
   "cell_type": "markdown",
   "metadata": {},
   "source": [
    "The value of params is updated upon calling step without us having to touch it ourselves! What happens is that the optimizer looks into params.grad and updates\n",
    "params, subtracting learning_rate times grad from it, exactly as in our former handrolled code."
   ]
  },
  {
   "cell_type": "code",
   "execution_count": 128,
   "metadata": {},
   "outputs": [
    {
     "data": {
      "text/plain": [
       "tensor([1.7761, 0.1064], requires_grad=True)"
      ]
     },
     "execution_count": 128,
     "metadata": {},
     "output_type": "execute_result"
    }
   ],
   "source": [
    "#One thing we need to add is zero the gradients\n",
    "\n",
    "params = torch.tensor([1.0, 0.0], requires_grad=True)\n",
    "learning_rate = 1e-2\n",
    "optimizer = optim.SGD([params], lr=learning_rate)\n",
    "t_p = model(t_un, *params)\n",
    "loss = loss_fn(t_p, t_c)\n",
    "optimizer.zero_grad()\n",
    "loss.backward()\n",
    "optimizer.step()\n",
    "params"
   ]
  },
  {
   "cell_type": "code",
   "execution_count": 129,
   "metadata": {},
   "outputs": [],
   "source": [
    "#Now lets put it all together\n",
    "def training_loop(n_epochs, optimizer, params, t_u, t_c):\n",
    "    for epoch in range(1, n_epochs + 1):\n",
    "        t_p = model(t_u, *params)\n",
    "        loss = loss_fn(t_p, t_c)\n",
    "        optimizer.zero_grad()\n",
    "        loss.backward()\n",
    "        optimizer.step()\n",
    "        if epoch % 500 == 0:\n",
    "            print('Epoch %d, Loss %f' % (epoch, float(loss)))\n",
    "    return params"
   ]
  },
  {
   "cell_type": "code",
   "execution_count": 130,
   "metadata": {},
   "outputs": [
    {
     "name": "stdout",
     "output_type": "stream",
     "text": [
      "Epoch 500, Loss 7.860116\n",
      "Epoch 1000, Loss 3.828538\n",
      "Epoch 1500, Loss 3.092191\n",
      "Epoch 2000, Loss 2.957697\n",
      "Epoch 2500, Loss 2.933134\n",
      "Epoch 3000, Loss 2.928648\n",
      "Epoch 3500, Loss 2.927830\n",
      "Epoch 4000, Loss 2.927679\n",
      "Epoch 4500, Loss 2.927652\n",
      "Epoch 5000, Loss 2.927647\n"
     ]
    },
    {
     "data": {
      "text/plain": [
       "tensor([  5.3671, -17.3012], requires_grad=True)"
      ]
     },
     "execution_count": 130,
     "metadata": {},
     "output_type": "execute_result"
    }
   ],
   "source": [
    "params = torch.tensor([1.0, 0.0], requires_grad=True)\n",
    "learning_rate = 1e-2\n",
    "optimizer = optim.SGD([params], lr=learning_rate)  #important we use the same params in model and optimizer\n",
    "\n",
    "training_loop(\n",
    "    n_epochs = 5000,\n",
    "    optimizer = optimizer,\n",
    "    params = params,\n",
    "    t_u = t_un,\n",
    "    t_c = t_c)"
   ]
  },
  {
   "cell_type": "markdown",
   "metadata": {},
   "source": [
    "<b>TESTING OTHER OPTIMIZERS</b>\n",
    "\n",
    "In order to test more optimizers, all we have to do is instantiate a different optimizer,\n",
    "say Adam, instead of SGD. The rest of the code stays as it is. \n",
    "\n",
    " We won’t go into much detail about Adam; suffice to say that it is a more sophisticated optimizer in which the learning rate is set adaptively. In addition, it is a lot less\n",
    "sensitive to the scaling of the parameters—so insensitive that we can go back to using the original (non-normalized) input t_u, and even increase the learning rate to 1e-1,\n",
    "and Adam won’t even blink:"
   ]
  },
  {
   "cell_type": "code",
   "execution_count": 131,
   "metadata": {},
   "outputs": [
    {
     "name": "stdout",
     "output_type": "stream",
     "text": [
      "Epoch 500, Loss 7.612903\n",
      "Epoch 1000, Loss 3.086700\n",
      "Epoch 1500, Loss 2.928578\n",
      "Epoch 2000, Loss 2.927646\n"
     ]
    },
    {
     "data": {
      "text/plain": [
       "tensor([  0.5367, -17.3021], requires_grad=True)"
      ]
     },
     "execution_count": 131,
     "metadata": {},
     "output_type": "execute_result"
    }
   ],
   "source": [
    "params = torch.tensor([1.0, 0.0], requires_grad=True)\n",
    "learning_rate = 1e-1\n",
    "optimizer = optim.Adam([params], lr=learning_rate)\n",
    "\n",
    "training_loop(\n",
    "    n_epochs = 2000,\n",
    "    optimizer = optimizer,\n",
    "    params = params,\n",
    "    t_u = t_u,\n",
    "    t_c = t_c)"
   ]
  },
  {
   "cell_type": "markdown",
   "metadata": {},
   "source": [
    "The optimizer is not the only flexible part of our training loop. Let’s turn our attention to the model. In order to train a neural network on the same data and the same\n",
    "loss, all we would need to change is the model function. It wouldn’t make particular\n",
    "sense in this case, since we know that converting Celsius to Fahrenheit amounts to a\n",
    "linear transformation, but we’ll do it anyway in chapter 6. We’ll see quite soon that\n",
    "neural networks allow us to remove our arbitrary assumptions about the shape of the\n",
    "function we should be approximating. Even so, we’ll see how neural networks manage\n",
    "to be trained even when the underlying processes are highly nonlinear (such in the\n",
    "case of describing an image with a sentence, as we saw in chapter 2).\n",
    "\n",
    "\n",
    "## 5.5.3 Training, validation, and overfitting\n",
    "\n",
    " The first action we can take to combat overfitting is recognizing that it might happen. In order to do so we must take a few data points\n",
    "out of our dataset (the validation set) and only fit our model on the remaining data\n",
    "points (the training set),\n",
    "\n",
    "<b>rule 1:</b> if the training loss is not decreasing, chances are the\n",
    "model is too simple for the data. The other possibility is that our data just doesn’t contain meaningful information that lets it explain the output\n",
    "\n",
    "<b>rule 2:</b>  if the training loss and the validation loss\n",
    "diverge, we’re overfitting\n",
    "\n",
    "\n",
    "One solution is adding penalization terms to the loss function, to\n",
    "make it cheaper for the model to behave more smoothly and change more slowly (up\n",
    "to a point). Another is to add noise to the input samples, to artificially create new data\n",
    "points in between training data samples and force the model to try to fit those, too.\n",
    "There are several other ways, all of them somewhat related to these. But the best favor\n",
    "we can do to ourselves, at least as a first move, is to make our model simpler. From an\n",
    "intuitive standpoint, a simpler model may not fit the training data as perfectly as a\n",
    "more complicated model would, but it will likely behave more regularly in between\n",
    "data points.\n",
    "\n",
    " Therefore, in order to choose the right size for a neural network model in\n",
    "terms of parameters, the process is based on two steps: increase the size until it fits,\n",
    "and then scale it down until it stops overfitting.\n",
    " We’ll see more about this in chapter 12—we’ll discover that our life will be a balancing act between fitting and overfitting\n",
    " \n",
    " \n",
    "<b> Splitting a Dataset</b>\n",
    "\n",
    "Shuffling the elements of a tensor amounts to finding a permutation of its indices.\n",
    "The randperm function does exactly this"
   ]
  },
  {
   "cell_type": "code",
   "execution_count": 132,
   "metadata": {},
   "outputs": [
    {
     "data": {
      "text/plain": [
       "(tensor([10,  8,  6,  7,  2,  1,  3,  0,  4]), tensor([5, 9]))"
      ]
     },
     "execution_count": 132,
     "metadata": {},
     "output_type": "execute_result"
    }
   ],
   "source": [
    "n_samples= t_u.shape[0]\n",
    "n_val = int(0.2 * n_samples)\n",
    "\n",
    "shuffled_indices = torch.randperm(n_samples)\n",
    "\n",
    "train_indices = shuffled_indices[:-n_val]\n",
    "val_indices = shuffled_indices[-n_val:]\n",
    "\n",
    "train_indices, val_indices"
   ]
  },
  {
   "cell_type": "code",
   "execution_count": 137,
   "metadata": {},
   "outputs": [],
   "source": [
    "#Got the indices now lets create the train and val sets\n",
    "train_t_u = t_u[train_indices]\n",
    "train_t_c = t_c[train_indices]\n",
    "\n",
    "val_t_u = t_u[val_indices]\n",
    "val_t_c = t_c[val_indices]\n",
    "\n",
    "train_t_un = 0.1 * train_t_u\n",
    "val_t_un = 0.1 * val_t_u"
   ]
  },
  {
   "cell_type": "markdown",
   "metadata": {},
   "source": [
    "Our training loop doesn’t really change. We just want to additionally evaluate the validation loss at every epoch, to have a chance to recognize whether we’re overfitting"
   ]
  },
  {
   "cell_type": "code",
   "execution_count": 148,
   "metadata": {},
   "outputs": [],
   "source": [
    "def training_loop(n_epochs, optimizer, params, train_t_u, val_t_u,\n",
    "                  train_t_c, val_t_c):\n",
    "    for epoch in range(1, n_epochs + 1):\n",
    "        train_t_p = model(train_t_u, *params)\n",
    "        train_loss = loss_fn(train_t_p, train_t_c)\n",
    "        \n",
    "        val_t_p = model(val_t_u, *params)\n",
    "        val_loss = loss_fn(val_t_p, val_t_c)\n",
    "        \n",
    "        optimizer.zero_grad()\n",
    "        train_loss.backward()  #Notice that there is no val_loss.backward() since we dnt want to train on it\n",
    "        optimizer.step()\n",
    "        \n",
    "        if epoch <=3 or epoch % 500 == 0:\n",
    "            print(f\"Epoch {epoch}, Training loss {train_loss.item():.4f},\" f\" Validation loss {val_loss.item():.4f}\")\n",
    "            \n",
    "    return params"
   ]
  },
  {
   "cell_type": "code",
   "execution_count": 139,
   "metadata": {},
   "outputs": [
    {
     "name": "stdout",
     "output_type": "stream",
     "text": [
      "Epoch 1, Training loss 91.7660, Validation loss 29.0568\n",
      "Epoch 2, Training loss 43.7766, Validation loss 2.3025\n",
      "Epoch 3, Training loss 36.0900, Validation loss 3.5195\n",
      "Epoch 500, Training loss 7.0920, Validation loss 4.6118\n",
      "Epoch 1000, Training loss 3.4116, Validation loss 4.0901\n",
      "Epoch 1500, Training loss 2.9273, Validation loss 3.9970\n",
      "Epoch 2000, Training loss 2.8636, Validation loss 3.9759\n",
      "Epoch 2500, Training loss 2.8552, Validation loss 3.9700\n",
      "Epoch 3000, Training loss 2.8541, Validation loss 3.9680\n"
     ]
    },
    {
     "data": {
      "text/plain": [
       "tensor([  5.4240, -17.2490], requires_grad=True)"
      ]
     },
     "execution_count": 139,
     "metadata": {},
     "output_type": "execute_result"
    }
   ],
   "source": [
    "params = torch.tensor([1.0, 0.0], requires_grad=True)\n",
    "learning_rate = 1e-2\n",
    "optimizer = optim.SGD([params], lr=learning_rate)\n",
    "\n",
    "training_loop(\n",
    "    n_epochs = 3000,\n",
    "    optimizer = optimizer,\n",
    "    params = params,\n",
    "    train_t_u = train_t_un,\n",
    "    val_t_u = val_t_un,\n",
    "    train_t_c = train_t_c,\n",
    "    val_t_c = val_t_c)"
   ]
  },
  {
   "cell_type": "markdown",
   "metadata": {},
   "source": [
    "## 5.5.4 Autograd nits and switching it off\n",
    "\n",
    " The curious reader will have an embryo of a question at this point. The model is\n",
    "evaluated twice—once on train_t_u and once on val_t_u—and then backward is\n",
    "called. Won’t this confuse autograd? Won’t backward be influenced by the values generated during the pass on the validation set?\n",
    "\n",
    " Luckily for us, this isn’t the case. The first line in the training loop evaluates model\n",
    "on train_t_u to produce train_t_p. Then train_loss is evaluated from train_t_p.\n",
    "This creates a computation graph that links train_t_u to train_t_p to train_loss.\n",
    "When model is evaluated again on val_t_u, it produces val_t_p and val_loss. In this\n",
    "case, a separate computation graph will be created that links val_t_u to val_t_p to\n",
    "val_loss. Separate tensors have been run through the same functions, model and\n",
    "loss_fn, generating separate computation graphs\n",
    "\n",
    "\n",
    "The only tensors these two graphs have in common are the parameters. When we call\n",
    "backward on train_loss, we run backward on the first graph. In other words, we\n",
    "accumulate the derivatives of train_loss with respect to the parameters based on the\n",
    "computation generated from train_t_u.\n",
    " If we (incorrectly) called backward on val_loss as well, we would accumulate the\n",
    "derivatives of val_loss with respect to the parameters on the same leaf nodes.\n",
    "\n",
    " Calling backward on val_loss would lead to gradients accumulating in the params tensor, on top of those generated during the train_loss.backward() call. In this case, we would effectively train our model on the whole dataset (both\n",
    "training and validation), since the gradient would depend on both"
   ]
  },
  {
   "cell_type": "markdown",
   "metadata": {},
   "source": [
    "<b> There’s another element for discussion here. </b>\n",
    " \n",
    " Since we’re not ever calling backward on val_loss, why are we building the graph in the first place? We could in fact\n",
    "just call model and loss_fn as plain functions, without tracking the computation.\n",
    "However optimized, building the autograd graph comes with additional costs that we\n",
    "could totally forgo during the validation pass, especially when the model has millions\n",
    "of parameters.\n",
    "\n",
    " In order to address this, PyTorch allows us to switch off autograd when we don’t\n",
    "need it, using the torch.no_grad context manager. We can make sure this works by\n",
    "checking the value of the requires_grad attribute on the val_loss tensor:"
   ]
  },
  {
   "cell_type": "code",
   "execution_count": 140,
   "metadata": {},
   "outputs": [],
   "source": [
    "def training_loop(n_epochs, optimizer, params, train_t_u, val_t_u, train_t_c, val_t_c):\n",
    "    for epoch in range(1, n_epochs + 1):\n",
    "        train_t_p = model(train_t_u, *params)\n",
    "        train_loss = loss_fn(train_t_p, train_t_c)\n",
    "        \n",
    "        \n",
    "        with torch.no_grad():\n",
    "            val_t_p = model(val_t_u, *params)\n",
    "            val_loss = loss_fn(val_t_p, val_t_c)\n",
    "            assert val_loss.requires_grad == False  #Dont need this but makes sure grad is off\n",
    "            \n",
    "        optimizer.zero_grad()\n",
    "        train_loss.backward()\n",
    "        optimizer.step()\n",
    "    return params"
   ]
  },
  {
   "cell_type": "markdown",
   "metadata": {},
   "source": [
    "Using the related set_grad_enabled context, we can also condition the code to run\n",
    "with autograd enabled or disabled, according to a Boolean expression—typically indicating whether we are running in training or inference mode. We could, for instance,\n",
    "define a calc_forward function that takes data as input and runs model and loss_fn\n",
    "with or without autograd according to a Boolean train_is argument:"
   ]
  },
  {
   "cell_type": "code",
   "execution_count": 142,
   "metadata": {},
   "outputs": [],
   "source": [
    "def calc_forward(t_u, t_c, is_train=True):\n",
    "    with torch.set_grad_enabled(is_train):\n",
    "        t_p = model(t_u, *params)\n",
    "        loss = loss_fn(t_p, t_c)\n",
    "    return loss"
   ]
  },
  {
   "cell_type": "markdown",
   "metadata": {},
   "source": [
    "# Exercises"
   ]
  },
  {
   "cell_type": "markdown",
   "metadata": {},
   "source": [
    "1. Redefine the model to be w2 * t_u ** 2 + w1 * t_u + b"
   ]
  },
  {
   "cell_type": "code",
   "execution_count": 143,
   "metadata": {},
   "outputs": [],
   "source": [
    "def model(t_u, w1, w2, b):\n",
    "    return (w2 * t_u)**2 + w1*t_u + b"
   ]
  },
  {
   "cell_type": "code",
   "execution_count": 151,
   "metadata": {},
   "outputs": [
    {
     "name": "stdout",
     "output_type": "stream",
     "text": [
      "Epoch 1, Training loss 681.0540, Validation loss 652.1264\n",
      "Epoch 2, Training loss 46.4894, Validation loss 54.6286\n",
      "Epoch 3, Training loss 27.5840, Validation loss 30.2537\n",
      "Epoch 500, Training loss 12.3546, Validation loss 4.5737\n",
      "Epoch 1000, Training loss 9.7718, Validation loss 3.3101\n",
      "Epoch 1500, Training loss 8.0027, Validation loss 2.4447\n",
      "Epoch 2000, Training loss 6.7918, Validation loss 1.8536\n",
      "Epoch 2500, Training loss 5.9630, Validation loss 1.4505\n",
      "Epoch 3000, Training loss 5.3955, Validation loss 1.1761\n",
      "Epoch 3500, Training loss 5.0064, Validation loss 0.9895\n",
      "Epoch 4000, Training loss 4.7391, Validation loss 0.8627\n",
      "Epoch 4500, Training loss 4.5550, Validation loss 0.7767\n",
      "Epoch 5000, Training loss 4.4275, Validation loss 0.7185\n"
     ]
    },
    {
     "data": {
      "text/plain": [
       "tensor([-0.9373,  0.7554, -0.9603], requires_grad=True)"
      ]
     },
     "execution_count": 151,
     "metadata": {},
     "output_type": "execute_result"
    }
   ],
   "source": [
    "params = torch.tensor([1.0,1.0,0.0], requires_grad=True)\n",
    "learning_rate = 1e-4\n",
    "optimizer = optim.SGD([params], lr=learning_rate)\n",
    "\n",
    "training_loop(\n",
    "    n_epochs = 5000,\n",
    "    optimizer = optimizer,\n",
    "    params = params,\n",
    "    train_t_u = train_t_un,\n",
    "    val_t_u = val_t_un,\n",
    "    train_t_c = train_t_c,\n",
    "    val_t_c = val_t_c)"
   ]
  }
 ],
 "metadata": {
  "kernelspec": {
   "display_name": "Python [conda env:facial_rec]",
   "language": "python",
   "name": "conda-env-facial_rec-py"
  },
  "language_info": {
   "codemirror_mode": {
    "name": "ipython",
    "version": 3
   },
   "file_extension": ".py",
   "mimetype": "text/x-python",
   "name": "python",
   "nbconvert_exporter": "python",
   "pygments_lexer": "ipython3",
   "version": "3.7.7"
  },
  "toc": {
   "base_numbering": 1,
   "nav_menu": {},
   "number_sections": true,
   "sideBar": true,
   "skip_h1_title": false,
   "title_cell": "Table of Contents",
   "title_sidebar": "Contents",
   "toc_cell": false,
   "toc_position": {},
   "toc_section_display": true,
   "toc_window_display": false
  }
 },
 "nbformat": 4,
 "nbformat_minor": 2
}
