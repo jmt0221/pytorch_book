{
 "cells": [
  {
   "cell_type": "markdown",
   "metadata": {},
   "source": [
    "<span style=\"font-size:3em;\">Ch6: Using a neural network to fit the data </span>\n",
    "\n",
    "In this chapter, we will make some changes to our model architecture: we’re going to\n",
    "implement a full artificial neural network to solve our temperature-conversion\n",
    "problem. We’ll continue using our training loop from the last chapter, along with our\n",
    "Fahrenheit-to-Celsius samples split into training and validation sets. We could start to\n",
    "use a quadratic model: rewriting model as a quadratic function of its input \n",
    "\n",
    "# 6.1 Artificial neurons\n",
    "\n",
    "The basic building block of these complicated functions is the neuron, as illustrated in\n",
    "figure 6.2. At its core, it is nothing but a linear transformation of the input (for example, multiplying the input by a number [the weight] and adding a constant [the bias])\n",
    "followed by the application of a fixed nonlinear function (referred to as the activation\n",
    "function).\n",
    "\n",
    " Mathematically, we can write this out as o = f(w * x + b), with x as our input, w our\n",
    "weight or scaling factor, and b as our bias or offset. f is our activation function.\n",
    "\n",
    "\n",
    "## 6.1.1 Composing a multilayer network\n",
    "A multilayer neural network is made up of a composition of functions:\n",
    "\n",
    "x_1 = f(w_0 * x + b_0)\n",
    "\n",
    "x_2 = f(w_1 * x_1 + b_1)\n",
    "\n",
    "...\n",
    "\n",
    "y = f(w_n * x_n + b_n)\n",
    "\n",
    "where the output of a layer of neurons is used as an input for the following layer"
   ]
  },
  {
   "cell_type": "markdown",
   "metadata": {},
   "source": [
    "## 6.1.2 Understanding the error function\n",
    "\n",
    " Our linear model and\n",
    "error-squared loss function had a convex error curve with a singular, clearly defined\n",
    "minimum. If we were to use other methods, we could solve for the parameters minimizing the error function automatically and definitively. That means that our parameter updates were attempting to estimate that singular correct answer as best they could.\n",
    "\n",
    " Neural networks do not have that same property of a convex error surface, even\n",
    "when using the same error-squared loss function! There’s no single right answer for\n",
    "each parameter we’re attempting to approximate. Instead, we are trying to get all of\n",
    "the parameters, when acting in concert, to produce a useful output. Since that useful\n",
    "output is only going to approximate the truth, there will be some level of imperfection.\n",
    "\n",
    " A big part of the reason neural networks have non-convex error surfaces is due to\n",
    "the activation function. The ability of an ensemble of neurons to approximate a very\n",
    "wide range of useful functions depends on the combination of the linear and nonlinear behavior inherent to each neuron. \n",
    "\n",
    "\n",
    "## 6.1.3 All we need is activation\n",
    "\n",
    " The activation\n",
    "function plays two important roles:\n",
    "-  In the inner parts of the model, it allows the output function to have different\n",
    "slopes at different values—something a linear function by definition cannot do.\n",
    "By trickily composing these differently sloped parts for many outputs, neural\n",
    "networks can approximate arbitrary functions\n",
    "\n",
    "\n",
    "- At the last layer of the network, it has the role of concentrating the outputs of\n",
    "the preceding linear operation into a given range.\n",
    "\n",
    "## 6.1.4 More activation functions\n",
    "- Tanh\n",
    "- Sigmoid\n",
    "- ReLU\n",
    "- PreLU\n",
    "- Leaky ReLU\n",
    "- Softplus\n",
    "- HardTanh\n",
    "- And many more\n",
    "\n",
    "## 6.1.5 Choosing the best activation function\n",
    "\n",
    "Activation functions are curious, because with such a wide variety of proven successful\n",
    "ones, it’s clear that there are few, if any, strict\n",
    "requirements. As such, we’re going to discuss some generalities about activation functions that can probably be trivially disproved in the specific."
   ]
  },
  {
   "cell_type": "markdown",
   "metadata": {},
   "source": [
    "<b>By definition activation functions  are:</b>\n",
    "- Are nonlinear. Repeated applications of (w*x+b) without an activation function\n",
    "results in a function of the same (affine linear) form. The nonlinearity allows\n",
    "the overall network to approximate more complex functions.\n",
    "\n",
    "\n",
    "- Are differentiable, so that gradients can be computed through them. Point discontinuities, as we can see in Hardtanh or ReLU, are fine.\n",
    "\n",
    "Without these characteristics, the network either falls back to being a linear model or\n",
    "becomes difficult to train.\n",
    "\n",
    "<b>The following are True for the functions:</b>\n",
    "- They have at least one sensitive range, where nontrivial changes to the input\n",
    "result in a corresponding nontrivial change to the output. This is needed for\n",
    "training.\n",
    "\n",
    "\n",
    "- Many of them have an insensitive (or saturated) range, where changes to the\n",
    "input result in little or no change to the output\n",
    "\n",
    "\n",
    "<b> Often (but far from universally so), the activation function will have at least one of\n",
    "these:</b>\n",
    "- A lower bound that is approached (or met) as the input goes to negative infinity\n",
    "\n",
    "\n",
    "- A similar-but-inverse upper bound for positive infinity\n",
    "\n",
    "\n",
    "Thinking of what we know about how backpropagation works, we can figure out that\n",
    "the errors will propagate backward through the activation more effectively when the\n",
    "inputs are in the response range, while errors will not greatly affect neurons for which the input is saturated (since the gradient will be close to zero, due to the flat area\n",
    "around the output)"
   ]
  },
  {
   "cell_type": "markdown",
   "metadata": {},
   "source": [
    "Put together, all this results in a pretty powerful mechanism: we’re saying that in a\n",
    "network built out of linear + activation units, when different inputs are presented to\n",
    "the network,\n",
    "\n",
    "1.  different units will respond in different ranges for the same inputs\n",
    "2. the errors associated with those inputs will primarily affect the neurons operating in the sensitive range, leaving other units more or less unaffected by the learning process\n",
    "\n",
    "In addition, thanks to the fact that derivatives of the activation with\n",
    "respect to its inputs are often close to 1 in the sensitive range, estimating the parameters of the linear transformation through gradient descent for the units that operate\n",
    "in that range will look a lot like the linear fit we have seen previously.\n",
    "\n",
    " Different combinations of units will respond to inputs in different ranges, and those parameters for\n",
    "those units are relatively easy to optimize through gradient descent, since learning will\n",
    "behave a lot like that of a linear function until the output saturates. "
   ]
  },
  {
   "cell_type": "markdown",
   "metadata": {},
   "source": [
    "## 6.1.6 What learning means for a neural network\n",
    " What makes using\n",
    "deep neural networks so attractive is that it saves us from worrying too much about the\n",
    "exact function that represents our data—whether it is quadratic, piecewise polynomial, or something else. With a deep neural network model, we have a universal\n",
    "approximator and a method to estimate its parameters. This approximator can be customized to our needs, in terms of model capacity and its ability to model complicated\n",
    "input/output relationships, just by composing simple building blocks. \n",
    "\n",
    "# 6.2 The PyTorch nn module\n",
    "\n",
    " PyTorch has a whole submodule dedicated to neural networks, called torch.nn. It\n",
    "contains the building blocks needed to create all sorts of neural network architectures. Those building blocks are called modules in PyTorch parlance (such building\n",
    "blocks are often referred to as layers in other frameworks). A PyTorch module is a\n",
    "Python class deriving from the nn.Module base class. A module can have one or more\n",
    "Parameter instances as attributes, which are tensors whose values are optimized\n",
    "during the training process (think w and b in our linear model). A module can also\n",
    "have one or more submodules (subclasses of nn.Module) as attributes, and it will be\n",
    "able to track their parameters as well.\n",
    "\n",
    "<b>NOTE:</b> The submodules must be top-level attributes, not buried inside list or\n",
    "dict instances! Otherwise, the optimizer will not be able to locate the submodules (and, hence, their parameters). For situations where your model\n",
    "requires a list or dict of submodules, PyTorch provides nn.ModuleList and\n",
    "nn.ModuleDict.\n",
    "\n",
    "\n",
    "Unsurprisingly, we can find a subclass of nn.Module called nn.Linear, which applies\n",
    "an affine transformation to its input (via the parameter attributes weight and bias)\n",
    "and is equivalent to what we implemented earlier in our thermometer experiments"
   ]
  },
  {
   "cell_type": "markdown",
   "metadata": {},
   "source": [
    "## 6.2.1 Using __call__ rather than forward\n",
    "\n",
    "All PyTorch-provided subclasses of nn.Module have their<b> __ call __ </b>method defined.\n",
    "This allows us to instantiate an nn.Linear and call it as if it was a function, like so"
   ]
  },
  {
   "cell_type": "code",
   "execution_count": 34,
   "metadata": {},
   "outputs": [],
   "source": [
    "import torch\n",
    "import torch.nn as nn\n",
    "import torch.optim as optim\n",
    "\n",
    "torch.set_printoptions(edgeitems=2, linewidth=75)"
   ]
  },
  {
   "cell_type": "code",
   "execution_count": 22,
   "metadata": {},
   "outputs": [],
   "source": [
    "t_c = [0.5,  14.0, 15.0, 28.0, 11.0,  8.0,  3.0, -4.0,  6.0, 13.0, 21.0]\n",
    "t_u = [35.7, 55.9, 58.2, 81.9, 56.3, 48.9, 33.9, 21.8, 48.4, 60.4, 68.4]\n",
    "t_c = torch.tensor(t_c).unsqueeze(1) # <1>\n",
    "t_u = torch.tensor(t_u).unsqueeze(1) # <1>"
   ]
  },
  {
   "cell_type": "code",
   "execution_count": 23,
   "metadata": {},
   "outputs": [
    {
     "data": {
      "text/plain": [
       "(tensor([5, 1, 3, 8, 6, 2, 7, 4, 0]), tensor([ 9, 10]))"
      ]
     },
     "execution_count": 23,
     "metadata": {},
     "output_type": "execute_result"
    }
   ],
   "source": [
    "n_samples = t_u.shape[0]\n",
    "n_val = int(0.2 * n_samples)\n",
    "\n",
    "shuffled_indices = torch.randperm(n_samples)\n",
    "\n",
    "train_indices = shuffled_indices[:-n_val]\n",
    "val_indices = shuffled_indices[-n_val:]\n",
    "\n",
    "train_indices, val_indices"
   ]
  },
  {
   "cell_type": "code",
   "execution_count": 24,
   "metadata": {},
   "outputs": [],
   "source": [
    "t_u_train = t_u[train_indices]\n",
    "t_c_train = t_c[train_indices]\n",
    "\n",
    "t_u_val = t_u[val_indices]\n",
    "t_c_val = t_c[val_indices]\n",
    "\n",
    "t_un_train = 0.1 * t_u_train\n",
    "t_un_val = 0.1 * t_u_val"
   ]
  },
  {
   "cell_type": "code",
   "execution_count": 25,
   "metadata": {},
   "outputs": [
    {
     "data": {
      "text/plain": [
       "tensor([[-2.8320],\n",
       "        [-3.1391]], grad_fn=<AddmmBackward>)"
      ]
     },
     "execution_count": 25,
     "metadata": {},
     "output_type": "execute_result"
    }
   ],
   "source": [
    "linear_model = nn.Linear(1,1)\n",
    "linear_model(t_un_val)"
   ]
  },
  {
   "cell_type": "markdown",
   "metadata": {},
   "source": [
    "Calling an instance of nn.Module with a set of arguments ends up calling a method\n",
    "named forward with the same arguments. The forward method is what executes the\n",
    "forward computation, while __call__ does other rather important chores before and\n",
    "after calling forward. So, it is technically possible to call forward directly, and it will\n",
    "produce the same output as __call__, but this should not be done from user code:\n",
    "\n",
    "y = model(x) --> Correct\n",
    "\n",
    "y = model.forward(x) --> Wrong\n",
    "\n",
    "## 6.2.2 Returning to the linear model\n",
    "\n",
    " The constructor to nn.Linear accepts three arguments: the\n",
    "number of input features, the number of output features, and whether the linear\n",
    "model includes a bias or not (defaults to true)"
   ]
  },
  {
   "cell_type": "code",
   "execution_count": 26,
   "metadata": {},
   "outputs": [
    {
     "data": {
      "text/plain": [
       "tensor([[-2.8320],\n",
       "        [-3.1391]], grad_fn=<AddmmBackward>)"
      ]
     },
     "execution_count": 26,
     "metadata": {},
     "output_type": "execute_result"
    }
   ],
   "source": [
    "linear_model(t_un_val)"
   ]
  },
  {
   "cell_type": "markdown",
   "metadata": {},
   "source": [
    "The number of features in our case just refers to the size of the input and the output\n",
    "tensor for the module, so 1 and 1. We have an instance of nn.Linear with one input and one output feature. That\n",
    "only requires one weight and one bias:"
   ]
  },
  {
   "cell_type": "code",
   "execution_count": 27,
   "metadata": {},
   "outputs": [
    {
     "data": {
      "text/plain": [
       "Parameter containing:\n",
       "tensor([[-0.3838]], requires_grad=True)"
      ]
     },
     "execution_count": 27,
     "metadata": {},
     "output_type": "execute_result"
    }
   ],
   "source": [
    "linear_model.weight"
   ]
  },
  {
   "cell_type": "code",
   "execution_count": 28,
   "metadata": {},
   "outputs": [
    {
     "data": {
      "text/plain": [
       "Parameter containing:\n",
       "tensor([-0.5137], requires_grad=True)"
      ]
     },
     "execution_count": 28,
     "metadata": {},
     "output_type": "execute_result"
    }
   ],
   "source": [
    "linear_model.bias"
   ]
  },
  {
   "cell_type": "code",
   "execution_count": 30,
   "metadata": {},
   "outputs": [
    {
     "data": {
      "text/plain": [
       "tensor([-0.8975], grad_fn=<AddBackward0>)"
      ]
     },
     "execution_count": 30,
     "metadata": {},
     "output_type": "execute_result"
    }
   ],
   "source": [
    "#Can call the model as such\n",
    "x = torch.ones(1)\n",
    "linear_model(x)"
   ]
  },
  {
   "cell_type": "markdown",
   "metadata": {},
   "source": [
    " Modules expect the zeroth dimension of the input to be the number of samples in the batch.\n",
    " Thus, assuming we need to run nn.Linear on 10 samples, we can create an\n",
    "input tensor of size B × Nin, where B is the size of the batch and Nin is the number of\n",
    "input features, and run it once through the model"
   ]
  },
  {
   "cell_type": "code",
   "execution_count": 31,
   "metadata": {},
   "outputs": [
    {
     "data": {
      "text/plain": [
       "tensor([[-0.8975],\n",
       "        [-0.8975],\n",
       "        [-0.8975],\n",
       "        [-0.8975],\n",
       "        [-0.8975],\n",
       "        [-0.8975],\n",
       "        [-0.8975],\n",
       "        [-0.8975],\n",
       "        [-0.8975],\n",
       "        [-0.8975]], grad_fn=<AddmmBackward>)"
      ]
     },
     "execution_count": 31,
     "metadata": {},
     "output_type": "execute_result"
    }
   ],
   "source": [
    "x = torch.ones(10,1)\n",
    "linear_model(x)"
   ]
  },
  {
   "cell_type": "markdown",
   "metadata": {},
   "source": [
    "The reason we want to do this batching is multifaceted. \n",
    "- One big motivation is to make\n",
    "sure the computation we’re asking for is big enough to saturate the computing\n",
    "resources we’re using to perform the computation. \n",
    "\n",
    "- GPUs in particular are highly parallelized, so a single input on a small model will leave most of the computing units idle.\n",
    "By providing batches of inputs, the calculation can be spread across the otherwise-idle\n",
    "units, which means the batched results come back just as quickly as a single result\n",
    "would. \n",
    "\n",
    "- Another benefit is that some advanced models use statistical information from\n",
    "the entire batch, and those statistics get better with larger batch sizes"
   ]
  },
  {
   "cell_type": "code",
   "execution_count": 33,
   "metadata": {},
   "outputs": [
    {
     "data": {
      "text/plain": [
       "(torch.Size([11, 1]), torch.Size([11, 1]))"
      ]
     },
     "execution_count": 33,
     "metadata": {},
     "output_type": "execute_result"
    }
   ],
   "source": [
    "#We can see that the unsqueeze added a batch size dimension\n",
    "t_c.shape,t_u.shape"
   ]
  },
  {
   "cell_type": "code",
   "execution_count": 35,
   "metadata": {},
   "outputs": [],
   "source": [
    "#Now lets update training code\n",
    "linear_model = nn.Linear(1,1)\n",
    "optimizer = optim.SGD(linear_model.parameters(), #adds our models parameters to the optimizer\n",
    "                     lr=1e-2)"
   ]
  },
  {
   "cell_type": "code",
   "execution_count": 37,
   "metadata": {},
   "outputs": [
    {
     "data": {
      "text/plain": [
       "[Parameter containing:\n",
       " tensor([[-0.2679]], requires_grad=True),\n",
       " Parameter containing:\n",
       " tensor([-0.1805], requires_grad=True)]"
      ]
     },
     "execution_count": 37,
     "metadata": {},
     "output_type": "execute_result"
    }
   ],
   "source": [
    "#Now we can look use parameters method to look at all parameters in a model\n",
    "list(linear_model.parameters())"
   ]
  },
  {
   "cell_type": "markdown",
   "metadata": {},
   "source": [
    "This call recurses into submodules defined in the module’s init constructor and\n",
    "returns a flat list of all parameters encountered, so that we can conveniently pass it to\n",
    "the optimizer constructor as we did previously. This allows us to easily step through the model and update parameters accordingly"
   ]
  },
  {
   "cell_type": "code",
   "execution_count": 39,
   "metadata": {},
   "outputs": [],
   "source": [
    "def training_loop(n_epochs, optimizer, model, loss_fn, t_u_train, t_u_val, t_c_train, t_c_val):\n",
    "    for epoch in range(1, n_epochs+1):\n",
    "        t_p_train = model(t_u_train)\n",
    "        loss_train = loss_fn(t_p_train, t_c_train)\n",
    "        \n",
    "        t_p_val = model(t_u_val)\n",
    "        \n",
    "        loss_val = loss_fn(t_p_val, t_c_val)\n",
    "        \n",
    "        \n",
    "        optimizer.zero_grad()\n",
    "        loss_train.backward()\n",
    "        optimizer.step()\n",
    "        \n",
    "        if epoch == 1 or epoch % 1000 == 0:\n",
    "            print(f\"Epoch {epoch}, Training loss {loss_train.item():.4f},\"\n",
    "            f\" Validation loss {loss_val.item():.4f}\")"
   ]
  },
  {
   "cell_type": "markdown",
   "metadata": {},
   "source": [
    "It hasn’t changed practically at all, except that now we don’t pass params explicitly to\n",
    "model since the model itself holds its Parameters internally.\n",
    " There’s one last bit that we can leverage from torch.nn: the loss. Indeed, nn comes\n",
    "with several common loss functions, among them nn.MSELoss.  Loss functions\n",
    "in nn are still subclasses of nn.Module, so we will create an instance and call it as a\n",
    "function."
   ]
  },
  {
   "cell_type": "code",
   "execution_count": 40,
   "metadata": {},
   "outputs": [
    {
     "name": "stdout",
     "output_type": "stream",
     "text": [
      "Epoch 1, Training loss 100.4855, Validation loss 187.2295\n",
      "Epoch 1000, Training loss 3.3979, Validation loss 4.2125\n",
      "Epoch 2000, Training loss 2.8067, Validation loss 3.6172\n",
      "Epoch 3000, Training loss 2.7946, Validation loss 3.5611\n",
      "\n",
      "Parameter containing:\n",
      "tensor([[5.3307]], requires_grad=True)\n",
      "Parameter containing:\n",
      "tensor([-17.0600], requires_grad=True)\n"
     ]
    }
   ],
   "source": [
    "linear_model = nn.Linear(1, 1)\n",
    "optimizer = optim.SGD(linear_model.parameters(), lr=1e-2)\n",
    "\n",
    "training_loop(\n",
    "    n_epochs = 3000,\n",
    "    optimizer = optimizer,\n",
    "    model = linear_model,\n",
    "    loss_fn = nn.MSELoss(),\n",
    "    t_u_train = t_un_train,\n",
    "    t_u_val = t_un_val,\n",
    "    t_c_train = t_c_train,\n",
    "    t_c_val = t_c_val)\n",
    "\n",
    "print()\n",
    "print(linear_model.weight)\n",
    "print(linear_model.bias)"
   ]
  },
  {
   "cell_type": "markdown",
   "metadata": {},
   "source": [
    "# 6.3 Finally a neural network\n",
    " There’s one last step left to take: replacing our linear model with a neural network\n",
    "as our approximating function. We said earlier that using a neural network will not\n",
    "result in a higher-quality model, since the process underlying our calibration problem\n",
    "was fundamentally linear\n",
    "\n",
    "## 6.3.1 Replacing the linear model\n",
    "We are going to keep everything else fixed, including the loss function, and only redefine model. Let’s build the simplest possible neural network: a linear module, followed\n",
    "by an activation function, feeding into another linear module.\n",
    "\n",
    "__nn provides a simple way to concatenate modules through the nn.Sequential\n",
    "container__"
   ]
  },
  {
   "cell_type": "code",
   "execution_count": 41,
   "metadata": {},
   "outputs": [
    {
     "data": {
      "text/plain": [
       "Sequential(\n",
       "  (0): Linear(in_features=1, out_features=13, bias=True)\n",
       "  (1): Tanh()\n",
       "  (2): Linear(in_features=13, out_features=1, bias=True)\n",
       ")"
      ]
     },
     "execution_count": 41,
     "metadata": {},
     "output_type": "execute_result"
    }
   ],
   "source": [
    "seq_model = nn.Sequential(\n",
    "            nn.Linear(1,13),\n",
    "            nn.Tanh(),\n",
    "            nn.Linear(13,1))\n",
    "\n",
    "seq_model"
   ]
  },
  {
   "cell_type": "markdown",
   "metadata": {},
   "source": [
    "## 6.3.2 Inspecting the parameters\n",
    "Calling model.parameters() will collect weight and bias from both the first and second linear modules."
   ]
  },
  {
   "cell_type": "code",
   "execution_count": 43,
   "metadata": {},
   "outputs": [
    {
     "data": {
      "text/plain": [
       "[torch.Size([13, 1]), torch.Size([13]), torch.Size([1, 13]), torch.Size([1])]"
      ]
     },
     "execution_count": 43,
     "metadata": {},
     "output_type": "execute_result"
    }
   ],
   "source": [
    "[param.shape for param in seq_model.parameters()]"
   ]
  },
  {
   "cell_type": "markdown",
   "metadata": {},
   "source": [
    "These are the tensors that the optimizer will get. Again, after we call model.backward(),\n",
    "all parameters are populated with their grad, and the optimizer then updates their values accordingly during the optimizer.step() call.  A few notes on parameters of nn.Modules. When inspecting parameters of a model\n",
    "made up of several submodules, it is handy to be able to identify parameters by name.\n",
    "There’s a method for that, called named_parameters"
   ]
  },
  {
   "cell_type": "code",
   "execution_count": 44,
   "metadata": {},
   "outputs": [
    {
     "name": "stdout",
     "output_type": "stream",
     "text": [
      "0.weight torch.Size([13, 1])\n",
      "0.bias torch.Size([13])\n",
      "2.weight torch.Size([1, 13])\n",
      "2.bias torch.Size([1])\n"
     ]
    }
   ],
   "source": [
    "for name, param in seq_model.named_parameters():\n",
    "    print(name,param.shape)"
   ]
  },
  {
   "cell_type": "markdown",
   "metadata": {},
   "source": [
    "The name of each module in Sequential is just the ordinal with which the module\n",
    "appears in the arguments. Interestingly, Sequential also accepts an OrderedDict, in which we can name each module passed to Sequential"
   ]
  },
  {
   "cell_type": "code",
   "execution_count": 45,
   "metadata": {},
   "outputs": [],
   "source": [
    "from collections import OrderedDict\n",
    "\n",
    "seq_model = nn.Sequential(OrderedDict([\n",
    "        ('hidden_linear', nn.Linear(1, 8)),\n",
    "        ('hidden_activation', nn.Tanh()),\n",
    "        ('output_linear', nn.Linear(8, 1))\n",
    "]))"
   ]
  },
  {
   "cell_type": "code",
   "execution_count": 47,
   "metadata": {},
   "outputs": [
    {
     "name": "stdout",
     "output_type": "stream",
     "text": [
      "hidden_linear.weight torch.Size([8, 1])\n",
      "hidden_linear.bias torch.Size([8])\n",
      "output_linear.weight torch.Size([1, 8])\n",
      "output_linear.bias torch.Size([1])\n"
     ]
    }
   ],
   "source": [
    "#allows us to get more explanatory names\n",
    "for name, param in seq_model.named_parameters():\n",
    "    print(name,param.shape)"
   ]
  },
  {
   "cell_type": "markdown",
   "metadata": {},
   "source": [
    "This is more descriptive; but it does not give us more flexibility in the flow of data\n",
    "through the network, which remains a purely sequential pass-through—the\n",
    "nn.Sequential is very aptly named. We will see how to take full control of the processing of input data by subclassing nn.Module ourselves in chapter 8."
   ]
  },
  {
   "cell_type": "code",
   "execution_count": 48,
   "metadata": {},
   "outputs": [
    {
     "data": {
      "text/plain": [
       "Parameter containing:\n",
       "tensor([-0.0868], requires_grad=True)"
      ]
     },
     "execution_count": 48,
     "metadata": {},
     "output_type": "execute_result"
    }
   ],
   "source": [
    "# We can also access a particular Parameter by using submodules as attributes:\n",
    "seq_model.output_linear.bias"
   ]
  },
  {
   "cell_type": "markdown",
   "metadata": {},
   "source": [
    "This is useful for inspecting parameters or their gradients: for instance, to monitor\n",
    "gradients during training, as we did at the beginning of this chapter. Say we want to\n",
    "print out the gradients of weight of the linear portion of the hidden layer. We can run\n",
    "the training loop for the new neural network model and then look at the resulting\n",
    "gradients after the last epoch:"
   ]
  },
  {
   "cell_type": "code",
   "execution_count": 49,
   "metadata": {},
   "outputs": [
    {
     "name": "stdout",
     "output_type": "stream",
     "text": [
      "Epoch 1, Training loss 158.9396, Validation loss 300.8373\n",
      "Epoch 1000, Training loss 5.6530, Validation loss 4.9669\n",
      "Epoch 2000, Training loss 3.0531, Validation loss 8.1890\n",
      "Epoch 3000, Training loss 1.7012, Validation loss 3.9538\n",
      "Epoch 4000, Training loss 1.5439, Validation loss 4.3303\n",
      "Epoch 5000, Training loss 1.5118, Validation loss 4.5934\n",
      "output tensor([[15.9374],\n",
      "        [21.7475]], grad_fn=<AddmmBackward>)\n",
      "answer tensor([[13.],\n",
      "        [21.]])\n",
      "hidden tensor([[-0.0095],\n",
      "        [ 0.0093],\n",
      "        [-0.0046],\n",
      "        [ 0.0127],\n",
      "        [ 0.0068],\n",
      "        [ 0.0518],\n",
      "        [-0.0073],\n",
      "        [-0.0023]])\n"
     ]
    }
   ],
   "source": [
    "optimizer = optim.SGD(seq_model.parameters(), lr=1e-3)\n",
    "\n",
    "training_loop(\n",
    "    n_epochs = 5000,\n",
    "    optimizer = optimizer,\n",
    "    model = seq_model,\n",
    "    loss_fn = nn.MSELoss(),\n",
    "    t_u_train = t_un_train,\n",
    "    t_u_val = t_un_val,\n",
    "    t_c_train = t_c_train,\n",
    "    t_c_val = t_c_val)\n",
    "\n",
    "print('output', seq_model(t_un_val))\n",
    "print('answer', t_c_val)\n",
    "print('hidden', seq_model.hidden_linear.weight.grad)"
   ]
  },
  {
   "cell_type": "markdown",
   "metadata": {},
   "source": [
    "## 6.3.3 Comparing to the linear model\n",
    "We can also evaluate the model on all of the data and see how it differs from a line:"
   ]
  },
  {
   "cell_type": "code",
   "execution_count": 50,
   "metadata": {},
   "outputs": [],
   "source": [
    "import matplotlib.pyplot as plt\n",
    "%matplotlib inline"
   ]
  },
  {
   "cell_type": "code",
   "execution_count": 51,
   "metadata": {},
   "outputs": [
    {
     "data": {
      "text/plain": [
       "[<matplotlib.lines.Line2D at 0x110e2e590>]"
      ]
     },
     "execution_count": 51,
     "metadata": {},
     "output_type": "execute_result"
    },
    {
     "data": {
      "image/png": "[encoded data removed]",
      "text/plain": [
       "<Figure size 600x400 with 1 Axes>"
      ]
     },
     "metadata": {
      "needs_background": "light"
     },
     "output_type": "display_data"
    }
   ],
   "source": [
    "t_range = torch.arange(20., 90.).unsqueeze(1)\n",
    "fig = plt.figure(dpi=100)\n",
    "\n",
    "plt.xlabel(\"Fahrenheit\")\n",
    "plt.ylabel(\"Celsius\")\n",
    "plt.plot(t_u.numpy(), t_c.numpy(), 'o')\n",
    "plt.plot(t_range.numpy(), seq_model(0.1 * t_range).detach().numpy(), 'c-')\n",
    "plt.plot(t_u.numpy(), seq_model(0.1*t_u).detach().numpy(),'kx')"
   ]
  },
  {
   "cell_type": "markdown",
   "metadata": {},
   "source": [
    "The above graph shows that our model is overfitting"
   ]
  }
 ],
 "metadata": {
  "kernelspec": {
   "display_name": "Python [conda env:facial_rec]",
   "language": "python",
   "name": "conda-env-facial_rec-py"
  },
  "language_info": {
   "codemirror_mode": {
    "name": "ipython",
    "version": 3
   },
   "file_extension": ".py",
   "mimetype": "text/x-python",
   "name": "python",
   "nbconvert_exporter": "python",
   "pygments_lexer": "ipython3",
   "version": "3.7.7"
  },
  "toc": {
   "base_numbering": 1,
   "nav_menu": {},
   "number_sections": true,
   "sideBar": true,
   "skip_h1_title": false,
   "title_cell": "Table of Contents",
   "title_sidebar": "Contents",
   "toc_cell": false,
   "toc_position": {},
   "toc_section_display": true,
   "toc_window_display": false
  }
 },
 "nbformat": 4,
 "nbformat_minor": 2
}
