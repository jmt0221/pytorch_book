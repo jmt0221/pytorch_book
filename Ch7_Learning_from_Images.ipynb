{
 "cells": [
  {
   "cell_type": "markdown",
   "metadata": {},
   "source": [
    "<span style=\"font-size:3em;\">Ch7: Telling birds from airplanes: Learning from images </span>\n",
    "\n",
    "In this chapter, we’ll keep moving ahead with building our neural network foundations. This time, we’ll turn our attention to images. Image recognition is arguably the task that made the world realize the potential of deep learning.\n",
    "\n",
    "\n",
    "# 7.1 A dataset of tiny images\n",
    "\n",
    "We will use a dataset called CIFAR-10, and, like its sibling CIFAR-100, it has been a computer vision classic for a decade. CIFAR-10 consists of 60,000 tiny 32 × 32 color (RGB) images, labeled with an integer corresponding to 1 of 10 classes: airplane (0), automobile (1), bird (2), cat (3),\n",
    "deer (4), dog (5), frog (6), horse (7), ship (8), and truck (9).\n",
    "\n",
    "Nowadays, CIFAR-10 is\n",
    "considered too simple for developing or validating new research, but it serves our\n",
    "learning purposes just fine. We will use the torchvision module to automatically\n",
    "download the dataset and load it as a collection of PyTorch tensors.\n",
    "\n",
    "## 7.1.1 Downloading CIFAR-10\n",
    "\n",
    "The first argument we provide to the CIFAR10 function is the location from which the\n",
    "data will be downloaded; the second specifies whether we’re interested in the training\n",
    "set or the validation set; and the third says whether we allow PyTorch to download the\n",
    "data if it is not found in the location specified in the first argument.\n",
    " Just like CIFAR10, the datasets submodule gives us precanned access to the most\n",
    "popular computer vision datasets, such as MNIST, Fashion-MNIST, CIFAR-100,\n",
    "SVHN, Coco, and Omniglot. In each case, the dataset is returned as a subclass of\n",
    "torch.utils.data.Dataset. "
   ]
  },
  {
   "cell_type": "code",
   "execution_count": 174,
   "metadata": {},
   "outputs": [],
   "source": [
    "import torch\n",
    "from torchvision import datasets\n",
    "import torch.nn as nn\n",
    "import torch.optim as optim\n",
    "\n",
    "import matplotlib.pyplot as plt\n",
    "%matplotlib inline"
   ]
  },
  {
   "cell_type": "code",
   "execution_count": 120,
   "metadata": {},
   "outputs": [
    {
     "name": "stderr",
     "output_type": "stream",
     "text": [
      "\r",
      "0.0%"
     ]
    },
    {
     "name": "stdout",
     "output_type": "stream",
     "text": [
      "Downloading https://www.cs.toronto.edu/~kriz/cifar-10-python.tar.gz to ../data-unversioned/p1ch7/cifar-10-python.tar.gz\n"
     ]
    },
    {
     "name": "stderr",
     "output_type": "stream",
     "text": [
      "100.0%"
     ]
    },
    {
     "name": "stdout",
     "output_type": "stream",
     "text": [
      "Extracting ../data-unversioned/p1ch7/cifar-10-python.tar.gz to ../data-unversioned/p1ch7/\n",
      "Files already downloaded and verified\n"
     ]
    }
   ],
   "source": [
    "data_path = '../data-unversioned/p1ch7/' #this is where we will download the data too\n",
    "cifar10 = datasets.CIFAR10(data_path, train=True, download=True) #instantiates a training dataset \n",
    "cifar10_val = datasets.CIFAR10(data_path,train=False, download=True) #train=False gives us the validation set"
   ]
  },
  {
   "cell_type": "code",
   "execution_count": 121,
   "metadata": {},
   "outputs": [
    {
     "data": {
      "text/plain": [
       "(torchvision.datasets.cifar.CIFAR10,\n",
       " torchvision.datasets.vision.VisionDataset,\n",
       " torch.utils.data.dataset.Dataset,\n",
       " object)"
      ]
     },
     "execution_count": 121,
     "metadata": {},
     "output_type": "execute_result"
    }
   ],
   "source": [
    "#We can see that the Method resolution order of our cifar10 instanec includes it as a base class\n",
    "type(cifar10).__mro__"
   ]
  },
  {
   "cell_type": "markdown",
   "metadata": {},
   "source": [
    "## 7.1.2 The Dataset Class\n",
    "\n",
    "It’s a good time to discover what being a subclass of torch.utils.data.Dataset\n",
    "means in practice\n",
    "\n",
    " It\n",
    "is an object that is required to implement two methods: __len__ and __getitem__.\n",
    "The former should return the number of items in the dataset; the latter should return\n",
    "the item, consisting of a sample and its corresponding label (an integer index).2\n",
    " In practice, when a Python object is equipped with the __len__ method, we can\n",
    "pass it as an argument to the len Python built-in function:"
   ]
  },
  {
   "cell_type": "code",
   "execution_count": 122,
   "metadata": {},
   "outputs": [
    {
     "data": {
      "text/plain": [
       "50000"
      ]
     },
     "execution_count": 122,
     "metadata": {},
     "output_type": "execute_result"
    }
   ],
   "source": [
    "len(cifar10)"
   ]
  },
  {
   "cell_type": "markdown",
   "metadata": {},
   "source": [
    "Similarly, since the dataset is equipped with the __getitem__ method, we can use the\n",
    "standard subscript for indexing tuples and lists to access individual items. Here, we get\n",
    "a PIL (Python Imaging Library, the PIL package) image with our desired output—an\n",
    "integer with the value 1, corresponding to “automobile”:"
   ]
  },
  {
   "cell_type": "code",
   "execution_count": 124,
   "metadata": {},
   "outputs": [
    {
     "data": {
      "text/plain": [
       "(<PIL.Image.Image image mode=RGB size=32x32 at 0x11C94E910>, 1)"
      ]
     },
     "execution_count": 124,
     "metadata": {},
     "output_type": "execute_result"
    }
   ],
   "source": [
    "img, label = cifar10[99]\n",
    "img,label"
   ]
  },
  {
   "cell_type": "code",
   "execution_count": 126,
   "metadata": {},
   "outputs": [
    {
     "data": {
      "image/png": "[encoded data removed]",
      "text/plain": [
       "<Figure size 432x288 with 1 Axes>"
      ]
     },
     "metadata": {
      "needs_background": "light"
     },
     "output_type": "display_data"
    }
   ],
   "source": [
    "#We can plot these images\n",
    "plt.imshow(img);"
   ]
  },
  {
   "cell_type": "markdown",
   "metadata": {},
   "source": [
    "## 7.1.3 Dataset transforms\n",
    "\n",
    "That’s all very nice, but we’ll likely need a way to convert the PIL image to a PyTorch\n",
    "tensor before we can do anything with it. That’s where torchvision.transforms\n",
    "comes in. This module defines a set of composable, function-like objects that can be\n",
    "passed as an argument to a torchvision dataset such as datasets.CIFAR10(…), and\n",
    "that perform transformations on the data after it is loaded but before it is returned by\n",
    "  __ getitem __ \n",
    "  \n",
    "  \n",
    "Here are some of the transforms"
   ]
  },
  {
   "cell_type": "code",
   "execution_count": 127,
   "metadata": {},
   "outputs": [
    {
     "data": {
      "text/plain": [
       "['CenterCrop',\n",
       " 'ColorJitter',\n",
       " 'Compose',\n",
       " 'FiveCrop',\n",
       " 'Grayscale',\n",
       " 'Lambda',\n",
       " 'LinearTransformation',\n",
       " 'Normalize',\n",
       " 'Pad',\n",
       " 'RandomAffine',\n",
       " 'RandomApply',\n",
       " 'RandomChoice',\n",
       " 'RandomCrop',\n",
       " 'RandomErasing',\n",
       " 'RandomGrayscale',\n",
       " 'RandomHorizontalFlip',\n",
       " 'RandomOrder',\n",
       " 'RandomPerspective',\n",
       " 'RandomResizedCrop',\n",
       " 'RandomRotation',\n",
       " 'RandomSizedCrop',\n",
       " 'RandomVerticalFlip',\n",
       " 'Resize',\n",
       " 'Scale',\n",
       " 'TenCrop',\n",
       " 'ToPILImage',\n",
       " 'ToTensor',\n",
       " '__builtins__',\n",
       " '__cached__',\n",
       " '__doc__',\n",
       " '__file__',\n",
       " '__loader__',\n",
       " '__name__',\n",
       " '__package__',\n",
       " '__path__',\n",
       " '__spec__',\n",
       " 'functional',\n",
       " 'transforms']"
      ]
     },
     "execution_count": 127,
     "metadata": {},
     "output_type": "execute_result"
    }
   ],
   "source": [
    "from torchvision import transforms\n",
    "dir(transforms)"
   ]
  },
  {
   "cell_type": "markdown",
   "metadata": {},
   "source": [
    "Among those transforms, we can spot ToTensor, which turns NumPy arrays and PIL\n",
    "images to tensors. It also takes care to lay out the dimensions of the output tensor as\n",
    "C × H × W (channel, height, width; just as we covered in chapter 4).\n",
    "\n",
    " Let’s try out the ToTensor transform. Once instantiated, it can be called like a\n",
    "function with the PIL image as the argument, returning a tensor as output:"
   ]
  },
  {
   "cell_type": "code",
   "execution_count": 128,
   "metadata": {},
   "outputs": [
    {
     "data": {
      "text/plain": [
       "torch.Size([3, 32, 32])"
      ]
     },
     "execution_count": 128,
     "metadata": {},
     "output_type": "execute_result"
    }
   ],
   "source": [
    "to_tensor = transforms.ToTensor()\n",
    "img_t = to_tensor(img)\n",
    "img_t.shape"
   ]
  },
  {
   "cell_type": "markdown",
   "metadata": {},
   "source": [
    "The image has been turned into a 3 × 32 × 32 tensor and therefore a 3-channel (RGB)\n",
    "32 × 32 image. Note that nothing has happened to label; it is still an integer.\n",
    "\n",
    "\n",
    " As we anticipated, we can pass the transform directly as an argument to dataset\n",
    ".CIFAR10:"
   ]
  },
  {
   "cell_type": "code",
   "execution_count": 129,
   "metadata": {},
   "outputs": [],
   "source": [
    "tensor_cifar10 = datasets.CIFAR10(data_path, train=True, download=False,\n",
    "                                 transform=transforms.ToTensor())"
   ]
  },
  {
   "cell_type": "code",
   "execution_count": 132,
   "metadata": {},
   "outputs": [
    {
     "data": {
      "text/plain": [
       "torch.Tensor"
      ]
     },
     "execution_count": 132,
     "metadata": {},
     "output_type": "execute_result"
    }
   ],
   "source": [
    "#Now our images will come out as tensors\n",
    "img_t, _ = tensor_cifar10[99]\n",
    "type(img_t)"
   ]
  },
  {
   "cell_type": "code",
   "execution_count": 133,
   "metadata": {},
   "outputs": [
    {
     "data": {
      "text/plain": [
       "(torch.Size([3, 32, 32]), torch.float32)"
      ]
     },
     "execution_count": 133,
     "metadata": {},
     "output_type": "execute_result"
    }
   ],
   "source": [
    "#As expected CxHxW and float 32\n",
    "img_t.shape, img_t.dtype"
   ]
  },
  {
   "cell_type": "markdown",
   "metadata": {},
   "source": [
    "Whereas the values in the original PIL image ranged from 0 to 255 (8 bits per channel), the ToTensor transform turns the data into a 32-bit floating-point per channel,\n",
    "scaling the values down from 0.0 to 1.0. \n",
    "\n",
    "Let’s verify that:"
   ]
  },
  {
   "cell_type": "code",
   "execution_count": 134,
   "metadata": {},
   "outputs": [
    {
     "data": {
      "text/plain": [
       "(tensor(0.), tensor(1.))"
      ]
     },
     "execution_count": 134,
     "metadata": {},
     "output_type": "execute_result"
    }
   ],
   "source": [
    "img_t.min(), img_t.max()"
   ]
  },
  {
   "cell_type": "code",
   "execution_count": 135,
   "metadata": {},
   "outputs": [
    {
     "data": {
      "image/png": "[encoded data removed]",
      "text/plain": [
       "<Figure size 432x288 with 1 Axes>"
      ]
     },
     "metadata": {
      "needs_background": "light"
     },
     "output_type": "display_data"
    }
   ],
   "source": [
    "#Lets verify its the same image, note we need to change the axis\n",
    "plt.imshow(img_t.permute(1,2,0));"
   ]
  },
  {
   "cell_type": "markdown",
   "metadata": {},
   "source": [
    "## 7.1.4 Normalizing data\n",
    "\n",
    "Transforms are really handy because we can chain them using transforms.Compose,\n",
    "and they can handle normalization and data augmentation transparently, directly in\n",
    "the data loader. For instance, it’s good practice to normalize the dataset so that each\n",
    "channel has zero mean and unitary standard deviation. We mentioned this in chapter\n",
    "4, but now, after going through chapter 5, we also have an intuition for why: by choosing\n",
    "activation functions that are linear around 0 plus or minus 1 (or 2), keeping the data\n",
    "in the same range means it’s more likely that neurons have nonzero gradients and, hence will learn faster\n",
    "\n",
    "Also, normalizing each channel so that it has the same\n",
    "distribution will ensure that channel information can be mixed and updated through\n",
    "gradient descent using the same learning rate. This is just like the situation in section\n",
    "5.4.4 when we rescaled the weight to be of the same magnitude as the bias in our\n",
    "temperature-conversion model.\n",
    "\n",
    "\n",
    " In order to make it so that each channel has zero mean and unitary standard deviation, we can compute the mean value and the standard deviation of each channel\n",
    "across the dataset and apply the following transform: v_n[c] = (v[c] - mean[c]) /\n",
    "stdev[c]. This is what transforms.Normalize does. The values of mean and stdev\n",
    "must be computed offline (they are not computed by the transform).\n",
    "\n",
    "\n",
    "__Since CIFAR is small, we can manipulate it entirely in memory__"
   ]
  },
  {
   "cell_type": "code",
   "execution_count": 136,
   "metadata": {},
   "outputs": [
    {
     "data": {
      "text/plain": [
       "torch.Size([3, 32, 32, 50000])"
      ]
     },
     "execution_count": 136,
     "metadata": {},
     "output_type": "execute_result"
    }
   ],
   "source": [
    "imgs = torch.stack([img_t for img_t, _ in tensor_cifar10], dim=3)\n",
    "imgs.shape"
   ]
  },
  {
   "cell_type": "markdown",
   "metadata": {},
   "source": [
    "Recall that view(3, -1) keeps the three channels and\n",
    "merges all the remaining dimensions into one, figuring\n",
    "out the appropriate size. Here our 3 × 32 × 32 image is\n",
    "transformed into a 3 × 1,024 vector, and then the mean\n",
    "is taken over the 1,024 elements of each channel."
   ]
  },
  {
   "cell_type": "code",
   "execution_count": 138,
   "metadata": {},
   "outputs": [
    {
     "data": {
      "text/plain": [
       "(tensor([0.4915, 0.4823, 0.4468]), tensor([0.2470, 0.2435, 0.2616]))"
      ]
     },
     "execution_count": 138,
     "metadata": {},
     "output_type": "execute_result"
    }
   ],
   "source": [
    "#Now we can easily compute the mean per channel and std\n",
    "means = imgs.view(3,-1).mean(dim=1)\n",
    "\n",
    "stds = imgs.view(3,-1).std(dim=1)\n",
    "\n",
    "means, stds"
   ]
  },
  {
   "cell_type": "code",
   "execution_count": 139,
   "metadata": {},
   "outputs": [
    {
     "data": {
      "text/plain": [
       "Normalize(mean=(0.4915, 0.4823, 0.4468), std=(0.247, 0.2435, 0.2616))"
      ]
     },
     "execution_count": 139,
     "metadata": {},
     "output_type": "execute_result"
    }
   ],
   "source": [
    "#With these numbers we can now normalize our channels\n",
    "transforms.Normalize((0.4915, 0.4823, 0.4468),(0.2470, 0.2435, 0.2616))"
   ]
  },
  {
   "cell_type": "code",
   "execution_count": 140,
   "metadata": {},
   "outputs": [],
   "source": [
    "#now we just need to add it when instantiating our dataset\n",
    "transformed_CIFAR = datasets.CIFAR10(data_path, train=True, download=False,\n",
    "                                    transform=transforms.Compose([\n",
    "                                        transforms.ToTensor(),\n",
    "                                        transforms.Normalize((0.4915, 0.4823, 0.4468),\n",
    "                                                             (0.2470, 0.2435, 0.2616))\n",
    "                                    ]))"
   ]
  },
  {
   "cell_type": "markdown",
   "metadata": {},
   "source": [
    "Note that, at this point, plotting an image drawn from the dataset won’t provide us\n",
    "with a faithful representation of the actual image:"
   ]
  },
  {
   "cell_type": "code",
   "execution_count": 142,
   "metadata": {},
   "outputs": [
    {
     "name": "stderr",
     "output_type": "stream",
     "text": [
      "Clipping input data to the valid range for imshow with RGB data ([0..1] for floats or [0..255] for integers).\n"
     ]
    },
    {
     "data": {
      "text/plain": [
       "<matplotlib.image.AxesImage at 0x11ea6c250>"
      ]
     },
     "execution_count": 142,
     "metadata": {},
     "output_type": "execute_result"
    },
    {
     "data": {
      "image/png": "[encoded data removed]",
      "text/plain": [
       "<Figure size 432x288 with 1 Axes>"
      ]
     },
     "metadata": {
      "needs_background": "light"
     },
     "output_type": "display_data"
    }
   ],
   "source": [
    "img_t, _ = transformed_CIFAR[99]\n",
    "plt.imshow(img_t.permute(1,2,0))"
   ]
  },
  {
   "cell_type": "markdown",
   "metadata": {},
   "source": [
    " This is because normalization\n",
    "has shifted the RGB levels outside the 0.0 to 1.0 range and changed the overall magnitudes of the channels. All of the data is still there; it’s just that Matplotlib renders it as\n",
    "black. We’ll keep this in mind for the future."
   ]
  },
  {
   "cell_type": "markdown",
   "metadata": {},
   "source": [
    "# 7.2 Distinguishing birds from airplanes\n",
    " We’ll pick out all the birds and airplanes from our\n",
    "CIFAR-10 dataset and build a neural network that can tell birds and airplanes apart.\n",
    "\n",
    "## 7.2.1 Building the Dataset\n",
    "\n",
    "The first step is to get the data in the right shape. We could create a Dataset subclass\n",
    "that only includes birds and airplanes. However, the dataset is small, and we only need\n",
    "indexing and len to work on our dataset. It doesn’t actually have to be a subclass of\n",
    "torch.utils.data.dataset.Dataset! Well, why not take a shortcut and just filter the\n",
    "data in cifar10 and remap the labels so they are contiguous? Here’s how:"
   ]
  },
  {
   "cell_type": "code",
   "execution_count": 158,
   "metadata": {},
   "outputs": [],
   "source": [
    "cifar10 = datasets.CIFAR10(\n",
    "    data_path, train=True, download=False,\n",
    "    transform=transforms.Compose([\n",
    "        transforms.ToTensor(),\n",
    "        transforms.Normalize((0.4915, 0.4823, 0.4468),\n",
    "                             (0.2470, 0.2435, 0.2616))\n",
    "    ]))"
   ]
  },
  {
   "cell_type": "code",
   "execution_count": 159,
   "metadata": {},
   "outputs": [],
   "source": [
    "cifar10_val = datasets.CIFAR10(\n",
    "    data_path, train=False, download=False,\n",
    "    transform=transforms.Compose([\n",
    "        transforms.ToTensor(),\n",
    "        transforms.Normalize((0.4915, 0.4823, 0.4468),\n",
    "                             (0.2470, 0.2435, 0.2616))\n",
    "    ]))"
   ]
  },
  {
   "cell_type": "code",
   "execution_count": 160,
   "metadata": {},
   "outputs": [],
   "source": [
    "label_map = {0:0, 2:1}\n",
    "class_names = ['airplane', 'bird']\n",
    "\n",
    "cifar2 = [(img, label_map[label]) for img, label in cifar10 if label in [0,2]]\n",
    "\n",
    "cifar2_val = [(img, label_map[label]) for img,label in cifar10_val if label in [0,2]]"
   ]
  },
  {
   "cell_type": "markdown",
   "metadata": {},
   "source": [
    "The cifar2 object satisfies the basic requirements for a Dataset—that is, __len__ and\n",
    "__getitem__ are defined—so we’re going to use that. We should be aware, however,\n",
    "that this is a clever shortcut and we might wish to implement a proper Dataset if we\n",
    "hit limitations with it.4\n",
    "\n",
    "## 7.2.2 A Fully Connected Model"
   ]
  },
  {
   "cell_type": "code",
   "execution_count": 145,
   "metadata": {},
   "outputs": [
    {
     "data": {
      "text/plain": [
       "3072"
      ]
     },
     "execution_count": 145,
     "metadata": {},
     "output_type": "execute_result"
    }
   ],
   "source": [
    "32*32*3"
   ]
  },
  {
   "cell_type": "code",
   "execution_count": 146,
   "metadata": {},
   "outputs": [],
   "source": [
    "#Lets build a model\n",
    "n_out = 2\n",
    "\n",
    "model = nn.Sequential(\n",
    "                    nn.Linear(3072, 512), #Use 3072 since we flatten the image(32*32*3 = 3072)\n",
    "                    nn.Tanh(),\n",
    "                    nn.Linear(512, n_out)\n",
    "                    )"
   ]
  },
  {
   "cell_type": "markdown",
   "metadata": {},
   "source": [
    "## 7.2.3 Output of a classifier\n",
    "\n",
    "We need to recognize that the output is categorical: The key realization in this case is that we can interpret our output as probabilities: the\n",
    "first entry is the probability of “airplane,” and the second is the probability of “bird.”\n",
    " Casting the problem in terms of probabilities imposes a few extra constraints on\n",
    "the outputs of our network:\n",
    "- Each element of the output must be in the [0.0, 1.0] range (a probability of\n",
    "an outcome cannot be less than 0 or greater than 1).\n",
    "- The elements of the output must add up to 1.0 (we’re certain that one of the\n",
    "two outcomes will occur).\n",
    "\n",
    "The solution is a simple and differentiable activation called __Softmax__"
   ]
  },
  {
   "cell_type": "markdown",
   "metadata": {},
   "source": [
    "## 7.2.4 Representing the output as probabilities\n",
    "Softmax is a function that takes a vector of values and produces another vector of the\n",
    "same dimension, where the values satisfy the constraints we just listed to represent\n",
    "probabilities."
   ]
  },
  {
   "cell_type": "code",
   "execution_count": 148,
   "metadata": {},
   "outputs": [],
   "source": [
    "def softmax(x):\n",
    "    return torch.exp(x) / torch.exp(x).sum()"
   ]
  },
  {
   "cell_type": "code",
   "execution_count": 151,
   "metadata": {},
   "outputs": [
    {
     "data": {
      "text/plain": [
       "(tensor([0.0900, 0.2447, 0.6652]), tensor(1.))"
      ]
     },
     "execution_count": 151,
     "metadata": {},
     "output_type": "execute_result"
    }
   ],
   "source": [
    "x = torch.tensor([1.,2.,3.])\n",
    "softmax(x), softmax(x).sum()"
   ]
  },
  {
   "cell_type": "markdown",
   "metadata": {},
   "source": [
    "Softmax is a monotone function, in that lower values in the input will correspond to\n",
    "lower values in the output. However, it’s not scale invariant, in that the ratio between\n",
    "values is not preserved. In fact, the ratio between the first and second elements of the\n",
    "input is 0.5, while the ratio between the same elements in the output is 0.3678. This is\n",
    "not a real issue, since the learning process will drive the parameters of the model in a\n",
    "way that values have appropriate ratios.\n",
    "\n",
    "Can call softmax in pytorch using __nn.Softmax()__\n",
    "\n",
    " Since, as usual, input tensors\n",
    "may have an additional batch 0th dimension, or have dimensions along which they\n",
    "encode probabilities and others in which they don’t, nn.Softmax requires us to specify\n",
    "the dimension along which the softmax function is applied:"
   ]
  },
  {
   "cell_type": "code",
   "execution_count": 154,
   "metadata": {},
   "outputs": [
    {
     "data": {
      "text/plain": [
       "tensor([[0.0900, 0.2447, 0.6652],\n",
       "        [0.0900, 0.2447, 0.6652]])"
      ]
     },
     "execution_count": 154,
     "metadata": {},
     "output_type": "execute_result"
    }
   ],
   "source": [
    "softmax = nn.Softmax(dim=1)\n",
    "x = torch.tensor([[1.,2.,3.],\n",
    "                [1.,2.,3.]])\n",
    "\n",
    "softmax(x)"
   ]
  },
  {
   "cell_type": "code",
   "execution_count": 155,
   "metadata": {},
   "outputs": [],
   "source": [
    "#Now we can add softmax to our model\n",
    "model = nn.Sequential(\n",
    "            nn.Linear(3072, 512),\n",
    "            nn.Tanh(),\n",
    "            nn.Linear(512,2),\n",
    "            nn.Softmax(dim=1))"
   ]
  },
  {
   "cell_type": "code",
   "execution_count": 162,
   "metadata": {},
   "outputs": [
    {
     "name": "stderr",
     "output_type": "stream",
     "text": [
      "Clipping input data to the valid range for imshow with RGB data ([0..1] for floats or [0..255] for integers).\n"
     ]
    },
    {
     "data": {
      "text/plain": [
       "<matplotlib.image.AxesImage at 0x11f465490>"
      ]
     },
     "execution_count": 162,
     "metadata": {},
     "output_type": "execute_result"
    },
    {
     "data": {
      "image/png": "[encoded data removed]",
      "text/plain": [
       "<Figure size 432x288 with 1 Axes>"
      ]
     },
     "metadata": {
      "needs_background": "light"
     },
     "output_type": "display_data"
    }
   ],
   "source": [
    "#Lets try out our model before we train\n",
    "img, _ = cifar2[0]\n",
    "plt.imshow(img.permute(1,2,0))"
   ]
  },
  {
   "cell_type": "markdown",
   "metadata": {},
   "source": [
    " We recall that our model expects 3,072 features in the input, and that nn\n",
    "works with data organized into batches along the zeroth dimension. So we need to\n",
    "turn our 3 × 32 × 32 image into a 1D tensor and then add an extra dimension in the\n",
    "zeroth position. "
   ]
  },
  {
   "cell_type": "code",
   "execution_count": 167,
   "metadata": {},
   "outputs": [],
   "source": [
    "img_batch = img.view(-1).unsqueeze(0)"
   ]
  },
  {
   "cell_type": "code",
   "execution_count": 169,
   "metadata": {},
   "outputs": [
    {
     "data": {
      "text/plain": [
       "tensor([[0.4678, 0.5322]], grad_fn=<SoftmaxBackward>)"
      ]
     },
     "execution_count": 169,
     "metadata": {},
     "output_type": "execute_result"
    }
   ],
   "source": [
    "#Now lets use the model\n",
    "out = model(img_batch)\n",
    "out"
   ]
  },
  {
   "cell_type": "markdown",
   "metadata": {},
   "source": [
    "We got probabilities but they are random guesses since our model isnt trained yet.\n",
    "\n",
    "\n",
    "Interestingly, we also see grad_fn for the\n",
    "output, which is the tip of the backward computation graph (it will be used as soon as\n",
    "we need to backpropagate)\n",
    "\n",
    " In addition, while we know which output probability is supposed to be which\n",
    "(recall our class_names), our network has no indication of that. Is the first entry “airplane” and the second “bird,” or the other way around? The network can’t even tell\n",
    "that at this point. It’s the loss function that associates a meaning with these two numbers, after backpropagation. If the labels are provided as index 0 for “airplane” and\n",
    "index 1 for “bird,” then that’s the order the outputs will be induced to take. Thus,\n",
    "after training, we will be able to get the label as an index by computing the argmax of\n",
    "the output probabilities: that is, the index at which we get the maximum probability.\n",
    "Conveniently, when supplied with a dimension, torch.max returns the maximum element along that dimension as well as the index at which that value occurs. In our case,\n",
    "we need to take the max along the probability vector (not across batches), therefore,\n",
    "dimension 1:"
   ]
  },
  {
   "cell_type": "code",
   "execution_count": 171,
   "metadata": {},
   "outputs": [
    {
     "data": {
      "text/plain": [
       "tensor([1])"
      ]
     },
     "execution_count": 171,
     "metadata": {},
     "output_type": "execute_result"
    }
   ],
   "source": [
    "_, index = torch.max(out, dim=1)\n",
    "index"
   ]
  },
  {
   "cell_type": "markdown",
   "metadata": {},
   "source": [
    "## 7.2.5 A loss for classifying\n",
    "\n",
    " We could still use MSE and make our\n",
    "output probabilities converge to [0.0, 1.0] and [1.0, 0.0]. However, thinking about\n",
    "it, we’re not really interested in reproducing these values exactly. Looking back at the\n",
    "argmax operation we used to extract the index of the predicted class, what we’re really\n",
    "interested in is that the first probability is higher than the second for airplanes and vice\n",
    "versa for birds. In other words, we want to penalize misclassifications rather than painstakingly penalize everything that doesn’t look exactly like a 0.0 or 1.0.\n",
    "\n",
    " What we need to maximize in this case is the probability associated with the correct\n",
    "class, out[class_index], where out is the output of softmax and class_index is a vector containing 0 for “airplane” and 1 for “bird” for each sample. This quantity—that\n",
    "is, the probability associated with the correct class—is referred to as the likelihood (of\n",
    "our model’s parameters, given the data).8\n",
    " In other words, we want a loss function that\n",
    "is very high when the likelihood is low: so low that the alternatives have a higher probability. Conversely, the loss should be low when the likelihood is higher than the alternatives, and we’re not really fixated on driving the probability up to 1.\n",
    "\n",
    "There’s a loss function that behaves that way, and it’s called __negative log likelihood\n",
    "(NLL)__. It has the expression __NLL = - sum(log(out_i[c_i]))__, where the sum is taken\n",
    "over N samples and c_i is the correct class for sample i.\n",
    "\n",
    "\n",
    " when low probabilities are assigned to the data, the NLL grows\n",
    "to infinity, whereas it decreases at a rather shallow rate when probabilities are greater\n",
    "than 0.5. Remember that the NLL takes probabilities as input; so, as the likelihood\n",
    "grows, the other probabilities will necessarily decrease."
   ]
  },
  {
   "cell_type": "markdown",
   "metadata": {},
   "source": [
    "So, how do we do this in PyTorch? \n",
    "\n",
    "PyTorch has an __nn.NLLLoss class__. However, as opposed to what you might expect, it does not take probabilities but rather takes a tensor of log probabilities as input. It then computes the NLL of our model given the batch of data. There’s a good reason behind the input convention: taking the logarithm of a probability is tricky when the probability gets close to zero. __The workaround is to use nn.LogSoftmax instead of nn.Softmax__, which takes care to make the calculation numerically stable"
   ]
  },
  {
   "cell_type": "code",
   "execution_count": 172,
   "metadata": {},
   "outputs": [],
   "source": [
    "model = nn.Sequential(\n",
    "                nn.Linear(3072, 512),\n",
    "                nn.Tanh(),\n",
    "                nn.Linear(512, 2),\n",
    "                nn.LogSoftmax(dim=1))\n",
    "\n",
    "loss = nn.NLLLoss()"
   ]
  },
  {
   "cell_type": "code",
   "execution_count": 173,
   "metadata": {},
   "outputs": [
    {
     "data": {
      "text/plain": [
       "tensor(0.5032, grad_fn=<NllLossBackward>)"
      ]
     },
     "execution_count": 173,
     "metadata": {},
     "output_type": "execute_result"
    }
   ],
   "source": [
    "#Now we can test the NLLLoss on our model\n",
    "img, label = cifar2[0]\n",
    "out = model(img.view(-1).unsqueeze(0))\n",
    "\n",
    "loss(out, torch.tensor([label]))"
   ]
  },
  {
   "cell_type": "markdown",
   "metadata": {},
   "source": [
    "## 7.2.6 Training the classifier"
   ]
  },
  {
   "cell_type": "code",
   "execution_count": null,
   "metadata": {},
   "outputs": [],
   "source": [
    "model = nn.Sequential(\n",
    "                nn.Linear(3072, 512),\n",
    "                nn.Tanh(),\n",
    "                nn.Linear(512, 2),\n",
    "                nn.LogSoftmax(dim=1))\n",
    "learning_rate = 1e-2\n",
    "\n",
    "optimizer = optim.SGD(model.parameters(), lr= learning_rate)\n",
    "\n",
    "loss_fn = nn.NLLLoss()\n",
    "\n",
    "epochs = 10\n",
    "\n",
    "for epoch in range(epochs):\n",
    "    for img, label in cifar2:\n",
    "        out = model(img.view(-1).unsqueeze(0))\n",
    "        loss = loss_fn(out, torch.tensor([label]))\n",
    "        \n",
    "        optimizer.zero_grad()\n",
    "        loss.backward()\n",
    "        optimizer.step()\n",
    "        \n",
    "    print(\"Epoch: %d, Loss: %f\" % (epoch, float(loss)))"
   ]
  },
  {
   "cell_type": "markdown",
   "metadata": {},
   "source": [
    " By shuffling samples at each epoch and estimating the gradient on one or (preferably, for stability) a few\n",
    "samples at a time, we are effectively introducing randomness in our gradient descent.\n",
    "It turns out that following gradients estimated over minibatches, which are poorer approximations of gradients\n",
    "estimated across the whole dataset, helps convergence and prevents the optimization\n",
    "process from getting stuck in local minima it encounters along the way.\n",
    "\n",
    "\n",
    "Typically, minibatches are a constant size that we need to set prior to training, just\n",
    "like the learning rate. These are called hyperparameters, to distinguish them from the\n",
    "parameters of a model.\n",
    "\n",
    " The torch.utils.data module has a class that helps with shuffling and\n",
    "organizing the data in minibatches: DataLoader. The job of a data loader is to sample\n",
    "minibatches from a dataset, giving us the flexibility to choose from different sampling\n",
    "strategies. A very common strategy is uniform sampling after shuffling the data at each\n",
    "epoch.\n",
    "\n",
    "\n",
    "Let’s see how this is done. At a minimum, the DataLoader constructor takes a Dataset\n",
    "object as input, along with batch_size and a shuffle Boolean that indicates whether\n",
    "the data needs to be shuffled at the beginning of each epoch:"
   ]
  },
  {
   "cell_type": "code",
   "execution_count": 177,
   "metadata": {},
   "outputs": [],
   "source": [
    "train_loader = torch.utils.data.DataLoader(cifar2, batch_size=64, shuffle=True)"
   ]
  },
  {
   "cell_type": "code",
   "execution_count": 179,
   "metadata": {},
   "outputs": [
    {
     "name": "stdout",
     "output_type": "stream",
     "text": [
      "Epoch: 0, Loss: 0.432117\n",
      "Epoch: 1, Loss: 0.379650\n",
      "Epoch: 2, Loss: 0.352264\n",
      "Epoch: 3, Loss: 0.434213\n",
      "Epoch: 4, Loss: 0.456035\n",
      "Epoch: 5, Loss: 0.351303\n",
      "Epoch: 6, Loss: 0.304718\n",
      "Epoch: 7, Loss: 0.376707\n",
      "Epoch: 8, Loss: 0.551254\n",
      "Epoch: 9, Loss: 0.120805\n"
     ]
    }
   ],
   "source": [
    "#A dataloader can be iterated over so we can use it in our loop\n",
    "model = nn.Sequential(\n",
    "                nn.Linear(3072, 512),\n",
    "                nn.Tanh(),\n",
    "                nn.Linear(512, 2),\n",
    "                nn.LogSoftmax(dim=1))\n",
    "learning_rate = 1e-2\n",
    "\n",
    "optimizer = optim.SGD(model.parameters(), lr= learning_rate)\n",
    "\n",
    "loss_fn = nn.NLLLoss()\n",
    "\n",
    "epochs = 10\n",
    "\n",
    "for epoch in range(epochs):\n",
    "    for imgs, labels in train_loader:\n",
    "        batch_size = imgs.shape[0]\n",
    "        outputs = model(imgs.view(batch_size,-1))\n",
    "        loss = loss_fn(outputs, labels)\n",
    "        \n",
    "        optimizer.zero_grad()\n",
    "        loss.backward()\n",
    "        optimizer.step()\n",
    "        \n",
    "    print(\"Epoch: %d, Loss: %f\" % (epoch, float(loss))) #due to shuffling it prints loss for random batch "
   ]
  },
  {
   "cell_type": "markdown",
   "metadata": {},
   "source": [
    "We see that the loss decreases somehow, but we have no idea whether it’s low enough.\n",
    "Since our goal here is to correctly assign classes to images, and preferably do that on\n",
    "an independent dataset, we can compute the accuracy of our model on the validation\n",
    "set in terms of the number of correct classifications over the total:"
   ]
  },
  {
   "cell_type": "code",
   "execution_count": 180,
   "metadata": {},
   "outputs": [],
   "source": [
    "val_loader = torch.utils.data.DataLoader(cifar2_val, batch_size=64, shuffle=False)\n",
    "\n",
    "correct = 0\n",
    "total = 0\n",
    "\n",
    "with torch.no_grad():\n",
    "    for imgs, labels in val_loader:\n",
    "        batch_size = imgs.shape[0]\n",
    "        outputs = model(imgs.view(batch_size,-1))\n",
    "        _, predicted = torch.max(outputs,dim=1)\n",
    "        total+=labels.shape[0]\n",
    "        correct += int((predicted == labels).sum())"
   ]
  },
  {
   "cell_type": "code",
   "execution_count": 182,
   "metadata": {},
   "outputs": [
    {
     "data": {
      "text/plain": [
       "(2000, 1630)"
      ]
     },
     "execution_count": 182,
     "metadata": {},
     "output_type": "execute_result"
    }
   ],
   "source": [
    "total, correct"
   ]
  },
  {
   "cell_type": "markdown",
   "metadata": {},
   "source": [
    "Not a great performance, but quite a lot better than random. In our defense, our\n",
    "model was quite a shallow classifier; lets try something a bit more complex"
   ]
  },
  {
   "cell_type": "code",
   "execution_count": 183,
   "metadata": {},
   "outputs": [],
   "source": [
    "model = nn.Sequential(\n",
    "        nn.Linear(3072, 1024),\n",
    "        nn.Tanh(),\n",
    "        nn.Linear(1024, 512),\n",
    "        nn.Tanh(),\n",
    "        nn.Linear(512, 128),\n",
    "        nn.Tanh(),\n",
    "        nn.Linear(128, 2),\n",
    "        nn.LogSoftmax(dim=1))"
   ]
  },
  {
   "cell_type": "markdown",
   "metadata": {},
   "source": [
    "The combination of nn.LogSoftmax and nn.NLLLoss is equivalent to using\n",
    "nn.CrossEntropyLoss. This terminology is a particularity of PyTorch, as the\n",
    "nn.NLLoss computes, in fact, the cross entropy but with log probability predictions as\n",
    "inputs where nn.CrossEntropyLoss takes scores (sometimes called logits). Technically, nn.NLLLoss is the cross entropy between the Dirac distribution, putting all mass\n",
    "on the target, and the predicted distribution given by the log probability inputs.\n",
    " \n",
    " \n",
    " To add to the confusion, in information theory, up to normalization by sample size,\n",
    "this cross entropy can be interpreted as a negative log likelihood of the predicted distribution under the target distribution as an outcome. So both losses are the negative\n",
    "log likelihood of the model parameters given the data when our model predicts the\n",
    "(softmax-applied) probabilities. In this book, we won’t rely on these details, but don’t\n",
    "let the PyTorch naming confuse you when you see the terms used in the literature.\n",
    " It is quite common to drop the last nn.LogSoftmax layer from the network and use\n",
    "nn.CrossEntropyLoss as a loss"
   ]
  },
  {
   "cell_type": "code",
   "execution_count": 184,
   "metadata": {},
   "outputs": [],
   "source": [
    "model = nn.Sequential(\n",
    "            nn.Linear(3072, 1024),\n",
    "            nn.Tanh(),\n",
    "            nn.Linear(1024, 512),\n",
    "            nn.Tanh(),\n",
    "            nn.Linear(512, 128),\n",
    "            nn.Tanh(),\n",
    "            nn.Linear(128, 2))\n",
    "\n",
    "loss_fn = nn.CrossEntropyLoss()"
   ]
  },
  {
   "cell_type": "markdown",
   "metadata": {},
   "source": [
    "Note that the numbers will be exactly the same as with nn.LogSoftmax and nn.NLLLoss.\n",
    "It’s just more convenient to do it all in one pass, with the only gotcha being that the output of our model will not be interpretable as probabilities (or log probabilities). We’ll\n",
    "need to explicitly pass the output through a softmax to obtain those.\n",
    "\n",
    "Training this model and evaluating the accuracy on the validation set (0.802000)\n",
    "lets us appreciate that a larger model bought us an increase in accuracy, but not that\n",
    "much. The accuracy on the training set is practically perfect (0.998100). What is this\n",
    "telling us? That we are overfitting our model in both cases. Our fully connected\n",
    "model is finding a way to discriminate birds and airplanes on the training set by memorizing the training set, but performance on the validation set is not all that great,\n",
    "even if we choose a larger mode"
   ]
  },
  {
   "cell_type": "markdown",
   "metadata": {},
   "source": [
    "To find out how many elements are in each tensor\n",
    "instance, we can call the numel method. Summing those gives us our total count.\n",
    "Depending on our use case, counting parameters might require us to check whether a\n",
    "parameter has requires_grad set to True, as well. We might want to differentiate the\n",
    "number of trainable parameters from the overall model size. Let’s take a look at what\n",
    "we have right now:"
   ]
  },
  {
   "cell_type": "code",
   "execution_count": 185,
   "metadata": {},
   "outputs": [
    {
     "data": {
      "text/plain": [
       "(3737474, [3145728, 1024, 524288, 512, 65536, 128, 256, 2])"
      ]
     },
     "execution_count": 185,
     "metadata": {},
     "output_type": "execute_result"
    }
   ],
   "source": [
    "numel_list = [p.numel() for p in model.parameters() if p.requires_grad == True]\n",
    "\n",
    "sum(numel_list), numel_list"
   ]
  },
  {
   "cell_type": "markdown",
   "metadata": {},
   "source": [
    "What is this telling us? That our neural network won’t scale very well with the number\n",
    "of pixels. What if we had a 1,024 × 1,024 RGB image? That’s 3.1 million input values.\n",
    "Even abruptly going to 1,024 hidden features (which is not going to work for our classifier), we would have over 3 billion parameters. Using 32-bit floats, we’re already at 12\n",
    "GB of RAM, and we haven’t even hit the second layer, much less computed and stored\n",
    "the gradients. That’s just not going to fit on most present-day GPUs.\n",
    "\n",
    "\n",
    "## 7.2.7 The limits of going fully connected\n",
    " On one hand, we are allowing for the combination of any pixel with every other pixel in the image being potentially relevant for our\n",
    "task. On the other hand, we aren’t utilizing the relative position of neighboring or faraway pixels, since we are treating the image as one big vector of numbers\n",
    "\n",
    "A fully connected network is not translation invariant. This means a\n",
    "network that has been trained to recognize a Spitfire starting at position 4,4 will not\n",
    "be able to recognize the exact same Spitfire starting at position 8,8. We would then have\n",
    "to augment the dataset—that is, apply random translations to images during training—\n",
    "so the network would have a chance to see Spitfires all over the image, and we would\n",
    "need to do this for every image in the dataset  However, this data\n",
    "augmentation strategy comes at a cost: the number of hidden features—that is, of\n",
    "parameters—must be large enough to store the information about all of these translated replicas"
   ]
  }
 ],
 "metadata": {
  "kernelspec": {
   "display_name": "Python [conda env:facial_rec]",
   "language": "python",
   "name": "conda-env-facial_rec-py"
  },
  "language_info": {
   "codemirror_mode": {
    "name": "ipython",
    "version": 3
   },
   "file_extension": ".py",
   "mimetype": "text/x-python",
   "name": "python",
   "nbconvert_exporter": "python",
   "pygments_lexer": "ipython3",
   "version": "3.7.7"
  },
  "toc": {
   "base_numbering": 1,
   "nav_menu": {},
   "number_sections": true,
   "sideBar": true,
   "skip_h1_title": false,
   "title_cell": "Table of Contents",
   "title_sidebar": "Contents",
   "toc_cell": false,
   "toc_position": {},
   "toc_section_display": true,
   "toc_window_display": false
  }
 },
 "nbformat": 4,
 "nbformat_minor": 2
}
