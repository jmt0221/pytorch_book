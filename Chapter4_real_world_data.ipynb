{
 "cells": [
  {
   "cell_type": "markdown",
   "metadata": {},
   "source": [
    "<span style=\"font-size:3em;\">Ch4: Real-world data\n",
    " representation\n",
    " using tensors</span>\n",
    " \n",
    " Each section in this chapter will describe a data type, and each will come with its\n",
    "own dataset. We’ll be using a lot of image and volumetric data through the rest of the book,\n",
    "since those are common data types and they reproduce well in book format. We’ll also\n",
    "cover tabular data, time series, and text, as those will also be of interest to a number of\n",
    "our readers. \n",
    "\n",
    "In every section, we will stop where a deep learning researcher would start: right\n",
    "before feeding the data to a model.\n"
   ]
  },
  {
   "cell_type": "code",
   "execution_count": 4,
   "metadata": {},
   "outputs": [],
   "source": [
    "import torch"
   ]
  },
  {
   "cell_type": "markdown",
   "metadata": {},
   "source": [
    "# 4.1 Working with Images\n",
    "\n",
    "## 4.1.1Images as an array\n",
    " An image is represented as a collection of scalars arranged in a regular grid with a\n",
    "height and a width (in pixels). We might have a single scalar per grid point (the\n",
    "pixel), which would be represented as a grayscale image; or multiple scalars per grid\n",
    "point, which would typically represent different colors, as we saw in the previous chapter, or different features like depth from a depth camera.\n",
    "\n",
    "Scalars representing values at individual pixels are often encoded using 8-bit integers, as in consumer cameras. In medical, scientific, and industrial applications, it is\n",
    "not unusual to find higher numerical precision, such as 12-bit or 16-bit. This allows a\n",
    "wider range or increased sensitivity in cases where the pixel encodes information\n",
    "about a physical property, like bone density, temperature, or depth.\n",
    "\n",
    "## 4.1.2 Loading an Image file\n",
    "Images come in several different file formats, but luckily there are plenty of ways to\n",
    "load images in Python. Let’s start by loading a PNG image using the <b>imageio</b> module\n",
    "\n",
    "<b>NOTE:</b> We’ll use imageio throughout the chapter because it handles different\n",
    "data types with a uniform API. For many purposes, using TorchVision is a\n",
    "great default choice to deal with image and video data. We go with imageio\n",
    "here for somewhat lighter exploration."
   ]
  },
  {
   "cell_type": "code",
   "execution_count": 1,
   "metadata": {},
   "outputs": [],
   "source": [
    "import imageio"
   ]
  },
  {
   "cell_type": "code",
   "execution_count": 2,
   "metadata": {},
   "outputs": [
    {
     "data": {
      "text/plain": [
       "(720, 1280, 3)"
      ]
     },
     "execution_count": 2,
     "metadata": {},
     "output_type": "execute_result"
    }
   ],
   "source": [
    "img_arr = imageio.imread('../dlwpt-code/data/p1ch4/image-dog/bobby.jpg')\n",
    "img_arr.shape"
   ]
  },
  {
   "cell_type": "markdown",
   "metadata": {},
   "source": [
    "At this point, img is a NumPy array-like object with three dimensions: two spatial\n",
    "dimensions, width and height; and a third dimension corresponding to the red,\n",
    "green, and blue channels. Any library that outputs a NumPy array will suffice to obtain\n",
    "a PyTorch tensor. \n",
    "\n",
    "## 4.1.3 Changing the Layout\n",
    "\n",
    "The only thing to watch out for is the layout of the dimensions.\n",
    "PyTorch modules dealing with image data require tensors to be laid out as <b>C × H × W </b>:\n",
    "channels, height, and width, respectively. (TensorFlow is H x W C but it doesnt make a huge difference, need to just make sure we change the layout accordingly)\n",
    "\n",
    "\n",
    "We can use the tensor’s permute method with the old dimensions for each new dimension to get to an appropriate layout. Given an input tensor H × W × C as obtained previously, we get a proper layout by having channel 2 first and then channels 0 and 1:\n",
    "\n",
    "Changing the layout using <b> permute</b> does not make a copy and instead uses the same storage and only changes size and stride. This means this operation is extremely cheap.\n"
   ]
  },
  {
   "cell_type": "code",
   "execution_count": 5,
   "metadata": {},
   "outputs": [],
   "source": [
    "img = torch.from_numpy(img_arr)\n",
    "out = img.permute(2,0,1)\n",
    "\n",
    "#Note: Changing a pixel in img will change out since its not a copy but a new view"
   ]
  },
  {
   "cell_type": "markdown",
   "metadata": {},
   "source": [
    "To create a dataset of multiple images to use as an input for our\n",
    "neural networks, we store the images in a batch along the first dimension to obtain an\n",
    "N × C × H × W tensor. An slightly more efficient alternative to using \"stack\" is to <b>preallocate a tensor of the appropriate size and shape and fill it with images loaded from the directory</b>"
   ]
  },
  {
   "cell_type": "code",
   "execution_count": 6,
   "metadata": {},
   "outputs": [],
   "source": [
    "batch_size = 3\n",
    "batch = torch.zeros(batch_size, 3, 256, 256, dtype=torch.uint8)\n",
    "\n",
    "#We can now load all PNG images from an input directory and store them in the tensor:\n",
    "import os\n",
    "\n",
    "data_dir = '../dlwpt-code/data/p1ch4/image-cats/'\n",
    "filenames = [name for name in os.listdir(data_dir) if os.path.splitext(name)[-1] == '.png']\n",
    "\n",
    "for i, filename in enumerate(filenames):\n",
    "    img_arr = imageio.imread(os.path.join(data_dir, filename))\n",
    "    img_t = torch.from_numpy(img_arr)\n",
    "    img_t = img_t.permute(2,0,1)\n",
    "    img_t = img_t[:3]\n",
    "    batch[i] = img_t"
   ]
  },
  {
   "cell_type": "markdown",
   "metadata": {},
   "source": [
    "## 4.1.4 Normalizing the Data\n",
    "Neural networks exhibit the best training performance when the input\n",
    "data ranges roughly from 0 to 1, or from -1 to 1 (this is an effect of how their building\n",
    "blocks are defined).\n",
    " So a typical thing we’ll want to do is cast a tensor to floating-point and normalize\n",
    "the values of the pixels. Casting to floating-point is easy, but normalization is trickier,\n",
    "as it depends on what range of the input we decide should lie between 0 and 1 (or -1\n",
    "and 1)."
   ]
  },
  {
   "cell_type": "code",
   "execution_count": 14,
   "metadata": {},
   "outputs": [],
   "source": [
    "batch = batch.float()\n",
    "batch /= 255.0\n",
    "\n",
    "n_channels = batch.shape[1]\n",
    "for c in range(n_channels):\n",
    "    mean = torch.mean(batch[:,c])\n",
    "    std = torch.std(batch[:,c])\n",
    "    batch[:,c] = (batch[:,c] - mean) / std"
   ]
  },
  {
   "cell_type": "markdown",
   "metadata": {},
   "source": [
    "<b>NOTE</b> Here, we normalize just a single batch of images because we do not\n",
    "know yet how to operate on an entire dataset. In working with images, it is good\n",
    "practice to compute the mean and standard deviation on all the training data\n",
    "in advance and then subtract and divide by these fixed, precomputed quantities.\n",
    "\n",
    "We can perform several other operations on inputs, such as geometric transformations like rotations, scaling, and cropping. These may help with training or may be\n",
    "required to make an arbitrary input conform to the input requirements of a network,\n",
    "like the size of the image.\n",
    "\n",
    "# 4.2 3D Images: Volumetric Data\n",
    "\n",
    " In CT scans, the intensity represents the density of the different parts of the body—lungs, fat, water, muscle,\n",
    "and bone, in order of increasing density—mapped from dark to bright when the CT\n",
    "scan is displayed on a clinical workstation. The density at each point is computed from\n",
    "the amount of X-rays reaching a detector after crossing through the body, with some\n",
    "complex math to deconvolve the raw sensor data into the full volume.\n",
    " \n",
    " \n",
    " CTs have only a single intensity channel, similar to a grayscale image. This means\n",
    "that often, the channel dimension is left out in native data formats; so, similar to the\n",
    "last section, the raw data typically has three dimensions. By stacking individual 2D\n",
    "slices into a 3D tensor, we can build volumetric data representing the 3D anatomy of a\n",
    "subject. Unlike what we saw in figure 4.1, the extra dimension in figure 4.2 represents\n",
    "an offset in physical space, rather than a particular band of the visible spectrum.\n",
    "\n",
    "\n",
    "Part 2 of this book will be devoted to tackling a medical imaging problem in the real\n",
    "world, so we won’t go into the details of medical-imaging data formats. For now, it suffices to say that there’s no fundamental difference between a tensor storing volumetric data versus image data. <b>We just have an extra dimension, depth, after the channel\n",
    "dimension, leading to a 5D tensor of shape N × C × D × H × W</b>\n",
    "\n",
    "\n",
    "\n",
    "We can load the volumetric data using the <b>volread</b> function in the imageio modeule which takes a directory as an argument and assembles  all Digital Imaging and Communications in Medicine (DICOM) files2\n",
    " in a series in a NumPy 3D array "
   ]
  },
  {
   "cell_type": "code",
   "execution_count": 15,
   "metadata": {},
   "outputs": [
    {
     "name": "stdout",
     "output_type": "stream",
     "text": [
      "Reading DICOM (examining files): 1/99 files (1.0%61/99 files (61.6%99/99 files (100.0%)\n",
      "  Found 1 correct series.\n",
      "Reading DICOM (loading data): 17/99  (17.258/99  (58.699/99  (100.0%99/99  (100.0%)\n"
     ]
    },
    {
     "data": {
      "text/plain": [
       "(99, 512, 512)"
      ]
     },
     "execution_count": 15,
     "metadata": {},
     "output_type": "execute_result"
    }
   ],
   "source": [
    "dir_path = '../dlwpt-code/data/p1ch4/volumetric-dicom/2-LUNG 3.0  B70f-04083/'\n",
    "vol_arr = imageio.volread(dir_path, 'DICOM')\n",
    "vol_arr.shape"
   ]
  },
  {
   "cell_type": "markdown",
   "metadata": {},
   "source": [
    "As was true in section 4.1, the layout is different from what PyTorch expects, due to\n",
    "having no channel information. So we’ll have to make room for the channel dimension using unsqueeze:"
   ]
  },
  {
   "cell_type": "code",
   "execution_count": 20,
   "metadata": {},
   "outputs": [
    {
     "data": {
      "text/plain": [
       "torch.Size([1, 99, 512, 512])"
      ]
     },
     "execution_count": 20,
     "metadata": {},
     "output_type": "execute_result"
    }
   ],
   "source": [
    "vol = torch.from_numpy(vol_arr).float()\n",
    "vol = torch.unsqueeze(vol,0)\n",
    "\n",
    "vol.shape\n",
    "\n",
    "#At this point we could assemble a 5D dataset by stacking multiple volumes along the batch direction"
   ]
  },
  {
   "cell_type": "code",
   "execution_count": 25,
   "metadata": {},
   "outputs": [
    {
     "data": {
      "text/plain": [
       "<matplotlib.image.AxesImage at 0x11f7eb810>"
      ]
     },
     "execution_count": 25,
     "metadata": {},
     "output_type": "execute_result"
    },
    {
     "data": {
      "image/png": "[encoded data removed]",
      "text/plain": [
       "<Figure size 432x288 with 1 Axes>"
      ]
     },
     "metadata": {
      "needs_background": "light"
     },
     "output_type": "display_data"
    }
   ],
   "source": [
    "#here is one of the slices of depth\n",
    "import matplotlib.pyplot as plt\n",
    "%matplotlib inline\n",
    "\n",
    "im = vol[0,0,:,:]\n",
    "im.shape\n",
    "\n",
    "\n",
    "plt.imshow(im,cmap='gray')"
   ]
  },
  {
   "cell_type": "markdown",
   "metadata": {},
   "source": [
    "# 4.3 Representing Tabular Data\n",
    "\n",
    "The simplest form of data we’ll encounter on a machine learning job is sitting in a\n",
    "spreadsheet, CSV file, or database. Whatever the medium, it’s a table containing one\n",
    "row per sample (or record), where columns contain one piece of information about our sample.\n",
    "\n",
    "\n",
    "Tabular data is typically not homogeneous: different columns don’t have the same type. PyTorch tensors, on the other hand, are homogeneous. Information in PyTorch is\n",
    "typically encoded as a number, typically floating-point (though integer types and\n",
    "Boolean are supported as well). This numeric encoding is deliberate, since neural\n",
    "networks are mathematical entities that take real numbers as inputs and produce real\n",
    "numbers as output through successive application of matrix multiplications and\n",
    "nonlinear functions.\n",
    "\n",
    "## 4.3.1 Using a real-world dataset\n",
    "\n",
    "Our first job as deep learning practitioners is to encode heterogeneous, real-world\n",
    "data into a tensor of floating-point numbers, ready for consumption by a neural network\n",
    "\n",
    "Were going to use the Wine Quality Dataset.  The file contains a comma-separated collection of values organized in 12 columns\n",
    "preceded by a header line containing the column names. The first 11 columns contain values of chemical variables, and the last column contains the sensory quality\n",
    "score from 0 (very bad) to 10 (excellent).\n",
    "\n",
    "\n",
    "\n",
    "## 4.3.2 Loading a wine data tensor\n",
    " Python offers several options for\n",
    "quickly loading a CSV file. Three popular options are\n",
    "- The csv module that ships with Python\n",
    "- NumPy\n",
    "- Pandas\n",
    "    - Pandas is the most time- and memory-efficient."
   ]
  },
  {
   "cell_type": "code",
   "execution_count": 28,
   "metadata": {},
   "outputs": [
    {
     "data": {
      "text/plain": [
       "array([[ 7.  ,  0.27,  0.36, ...,  0.45,  8.8 ,  6.  ],\n",
       "       [ 6.3 ,  0.3 ,  0.34, ...,  0.49,  9.5 ,  6.  ],\n",
       "       [ 8.1 ,  0.28,  0.4 , ...,  0.44, 10.1 ,  6.  ],\n",
       "       ...,\n",
       "       [ 6.5 ,  0.24,  0.19, ...,  0.46,  9.4 ,  6.  ],\n",
       "       [ 5.5 ,  0.29,  0.3 , ...,  0.38, 12.8 ,  7.  ],\n",
       "       [ 6.  ,  0.21,  0.38, ...,  0.32, 11.8 ,  6.  ]], dtype=float32)"
      ]
     },
     "execution_count": 28,
     "metadata": {},
     "output_type": "execute_result"
    }
   ],
   "source": [
    "import csv\n",
    "import numpy as np\n",
    "\n",
    "#skip first row since it has column names\n",
    "wine_path = '../dlwpt-code/data/p1ch4/tabular-wine/winequality-white.csv'\n",
    "wineq_numpy = np.loadtxt(wine_path, dtype= np.float32, delimiter=';', skiprows=1)\n",
    "wineq_numpy"
   ]
  },
  {
   "cell_type": "code",
   "execution_count": 30,
   "metadata": {},
   "outputs": [
    {
     "data": {
      "text/plain": [
       "((4898, 12),\n",
       " ['fixed acidity',\n",
       "  'volatile acidity',\n",
       "  'citric acid',\n",
       "  'residual sugar',\n",
       "  'chlorides',\n",
       "  'free sulfur dioxide',\n",
       "  'total sulfur dioxide',\n",
       "  'density',\n",
       "  'pH',\n",
       "  'sulphates',\n",
       "  'alcohol',\n",
       "  'quality'])"
      ]
     },
     "execution_count": 30,
     "metadata": {},
     "output_type": "execute_result"
    }
   ],
   "source": [
    "#lets check shape and columns\n",
    "col_list = next(csv.reader(open(wine_path), delimiter= ';'))\n",
    "\n",
    "wineq_numpy.shape, col_list"
   ]
  },
  {
   "cell_type": "code",
   "execution_count": 31,
   "metadata": {},
   "outputs": [
    {
     "data": {
      "text/plain": [
       "(torch.Size([4898, 12]), torch.float32)"
      ]
     },
     "execution_count": 31,
     "metadata": {},
     "output_type": "execute_result"
    }
   ],
   "source": [
    "#convert NumPy array to Tensor\n",
    "wineq = torch.from_numpy(wineq_numpy)\n",
    "wineq.shape, wineq.dtype"
   ]
  },
  {
   "cell_type": "markdown",
   "metadata": {},
   "source": [
    "## 4.3.3 Representing scores\n",
    "\n",
    "We will typically remove the score from the tensor of input data and keep it in a separate tensor, so that we can use the score as the ground truth without it being input to our model"
   ]
  },
  {
   "cell_type": "code",
   "execution_count": 44,
   "metadata": {},
   "outputs": [
    {
     "data": {
      "text/plain": [
       "(torch.Size([4898, 11]), torch.Size([4898]))"
      ]
     },
     "execution_count": 44,
     "metadata": {},
     "output_type": "execute_result"
    }
   ],
   "source": [
    "data = wineq[:,:-1]\n",
    "target = wineq[:,-1]\n",
    "data.shape, target.shape"
   ]
  },
  {
   "cell_type": "markdown",
   "metadata": {},
   "source": [
    "## 4.3.4 One-hot encoding\n",
    "\n",
    "We can achieve one-hot encoding using the <b>scatter_</b> method, which fills the tensor with values from a source tensor along the indices provided as arguments:\n",
    "\n",
    "The arguments for scatter_ are as follows:\n",
    "- The dimension along which the following two arguments are specified\n",
    "- A column tensor indicating the indices of the elements to scatter\n",
    "-  A tensor containing the elements to scatter or a single scalar to scatter (1, in\n",
    "this case)\n",
    "\n",
    "\n",
    "The call to unsqueeze adds a singleton dimension, from a 1D tensor of 4,898 elements\n",
    "to a 2D tensor of size (4,898 × 1), without changing its contents—no extra elements\n",
    "are added; we just decided to use an extra index to access the elements. That is, we\n",
    "access the first element of target as target[0] and the first element of its\n",
    "unsqueezed counterpart as target_unsqueezed[0,0]."
   ]
  },
  {
   "cell_type": "code",
   "execution_count": 49,
   "metadata": {},
   "outputs": [
    {
     "name": "stdout",
     "output_type": "stream",
     "text": [
      "tensor([[6],\n",
      "        [6],\n",
      "        [6],\n",
      "        ...,\n",
      "        [6],\n",
      "        [7],\n",
      "        [6]])\n"
     ]
    },
    {
     "data": {
      "text/plain": [
       "tensor([[0, 0, 0,  ..., 0, 0, 0],\n",
       "        [0, 0, 0,  ..., 0, 0, 0],\n",
       "        [0, 0, 0,  ..., 0, 0, 0],\n",
       "        ...,\n",
       "        [0, 0, 0,  ..., 0, 0, 0],\n",
       "        [0, 0, 0,  ..., 1, 0, 0],\n",
       "        [0, 0, 0,  ..., 0, 0, 0]])"
      ]
     },
     "execution_count": 49,
     "metadata": {},
     "output_type": "execute_result"
    }
   ],
   "source": [
    "target = wineq[:,-1].long() #target needs to be long datatype\n",
    "target_onehot = torch.zeros(target.shape[0], 10).long()\n",
    "\n",
    "#since target_onehot only has 2 dimensions, we need to add another w/ unsqueeze\n",
    "print(target.unsqueeze(1))\n",
    "target_onehot.scatter_(1, target.unsqueeze(1), 1.0)"
   ]
  },
  {
   "cell_type": "markdown",
   "metadata": {},
   "source": [
    "## 4.3.5 When to categorize\n",
    "\n",
    "You may\n",
    "wonder what the deal is with the ordinal case discussed in the earlier sidebar. There is\n",
    "no general recipe for it; most commonly, such data is either treated as categorical (losing the ordering part, and hoping that maybe our model will pick it up during training if we only have a few categories) or continuous (introducing an arbitrary notion of distance).\n",
    "\n",
    "## 4.3.6 Finding thresholds\n",
    "\n",
    "Next, let’s start to look at the data with an eye to seeing if there is an easy way to tell\n",
    "good and bad wines apart at a glance. First, we’re going to determine which rows in\n",
    "target correspond to a score less than or equal to 3\n",
    "\n",
    "Note that only 20 of the bad_indexes entries are set to True! By using a feature in\n",
    "PyTorch called advanced indexing, we can use a tensor with data type torch.bool to\n",
    "index the data tensor. This will essentially filter data to be only items (or rows) corresponding to True in the indexing tensor. The bad_indexes tensor has the same shape\n",
    "as target, with values of False or True depending on the outcome of the comparison\n",
    "between our threshold and each element in the original target tensor:\n",
    "\n",
    "<b> Note:</b> This is exactly like Pandas indexing"
   ]
  },
  {
   "cell_type": "code",
   "execution_count": 54,
   "metadata": {},
   "outputs": [
    {
     "data": {
      "text/plain": [
       "(torch.Size([4898]), torch.bool, tensor(20))"
      ]
     },
     "execution_count": 54,
     "metadata": {},
     "output_type": "execute_result"
    }
   ],
   "source": [
    "bad_indexes = target <= 3\n",
    "bad_indexes.shape, bad_indexes.dtype, bad_indexes.sum()"
   ]
  },
  {
   "cell_type": "code",
   "execution_count": 55,
   "metadata": {},
   "outputs": [
    {
     "data": {
      "text/plain": [
       "torch.Size([20, 11])"
      ]
     },
     "execution_count": 55,
     "metadata": {},
     "output_type": "execute_result"
    }
   ],
   "source": [
    "bad_data = data[bad_indexes]\n",
    "bad_data.shape"
   ]
  },
  {
   "cell_type": "code",
   "execution_count": 57,
   "metadata": {},
   "outputs": [
    {
     "name": "stdout",
     "output_type": "stream",
     "text": [
      " 0 fixed acidity          7.60   6.89   6.73\n",
      " 1 volatile acidity       0.33   0.28   0.27\n",
      " 2 citric acid            0.34   0.34   0.33\n",
      " 3 residual sugar         6.39   6.71   5.26\n",
      " 4 chlorides              0.05   0.05   0.04\n",
      " 5 free sulfur dioxide   53.33  35.42  34.55\n",
      " 6 total sulfur dioxide 170.60 141.83 125.25\n",
      " 7 density                0.99   0.99   0.99\n",
      " 8 pH                     3.19   3.18   3.22\n",
      " 9 sulphates              0.47   0.49   0.50\n",
      "10 alcohol               10.34  10.26  11.42\n"
     ]
    }
   ],
   "source": [
    "# Now we can start to get info about wines grouped into good, middle, and bad categories. \n",
    "#Take the .mean() of each col:\n",
    "bad_data = data[target <= 3]\n",
    "mid_data = data[(target > 3) & (target < 7)] #just like in Pandas use & for multiple conditions\n",
    "good_data = data[target >= 7]\n",
    "\n",
    "bad_mean = torch.mean(bad_data, dim=0)\n",
    "mid_mean = torch.mean(mid_data, dim=0)\n",
    "good_mean = torch.mean(good_data, dim=0)\n",
    "\n",
    "for i, args in enumerate(zip(col_list, bad_mean, mid_mean, good_mean)):\n",
    "    print('{:2} {:20} {:6.2f} {:6.2f} {:6.2f}'.format(i, *args))"
   ]
  },
  {
   "cell_type": "markdown",
   "metadata": {},
   "source": [
    "At first glance, the bad wines seem to have higher total sulfur dioxide, among other differences. We could use a threshold on total sulfur dioxide as a crude criterion for discriminating good wines from bad ones."
   ]
  },
  {
   "cell_type": "code",
   "execution_count": 58,
   "metadata": {},
   "outputs": [
    {
     "data": {
      "text/plain": [
       "(torch.Size([4898]), torch.bool, tensor(2727))"
      ]
     },
     "execution_count": 58,
     "metadata": {},
     "output_type": "execute_result"
    }
   ],
   "source": [
    "total_sulfur_threshold = 141.83\n",
    "total_sulfur_data = data[:,6]\n",
    "predicted_indexes = torch.lt(total_sulfur_data, total_sulfur_threshold) #torch.lt computes less than(lt)\n",
    "\n",
    "predicted_indexes.shape, predicted_indexes.dtype, predicted_indexes.sum()"
   ]
  },
  {
   "cell_type": "code",
   "execution_count": 59,
   "metadata": {},
   "outputs": [
    {
     "data": {
      "text/plain": [
       "(torch.Size([4898]), torch.bool, tensor(3258))"
      ]
     },
     "execution_count": 59,
     "metadata": {},
     "output_type": "execute_result"
    }
   ],
   "source": [
    "#Now we can check threshold of good wines and see if how accureate looking at sulfur is\n",
    "actual_indexes = target > 5\n",
    "actual_indexes.shape, actual_indexes.dtype, actual_indexes.sum()"
   ]
  },
  {
   "cell_type": "markdown",
   "metadata": {},
   "source": [
    "Since there are about 500 more actually good wines than our threshold predicted, we\n",
    "already have hard evidence that it’s not perfect. Now we need to see how well our predictions line up with the actual rankings. \n",
    "\n",
    "We will perform a logical “and” between our\n",
    "prediction indexes and the actual good indexes "
   ]
  },
  {
   "cell_type": "code",
   "execution_count": 60,
   "metadata": {},
   "outputs": [
    {
     "data": {
      "text/plain": [
       "(2018, 0.74000733406674, 0.6193984039287906)"
      ]
     },
     "execution_count": 60,
     "metadata": {},
     "output_type": "execute_result"
    }
   ],
   "source": [
    "n_matches = torch.sum(actual_indexes & predicted_indexes).item()\n",
    "n_predicted = torch.sum(predicted_indexes).item()\n",
    "n_actual = torch.sum(actual_indexes).item()\n",
    "n_matches, n_matches/n_predicted, n_matches/n_actual"
   ]
  },
  {
   "cell_type": "markdown",
   "metadata": {},
   "source": [
    "We got around 2,000 wines right! Since we predicted 2,700 wines, this gives us a 74%\n",
    "chance that if we predict a wine to be high quality, it actually is. Unfortunately, there\n",
    "are 3,200 good wines, and we only identified 61% of them. "
   ]
  },
  {
   "cell_type": "markdown",
   "metadata": {},
   "source": [
    "# 4.4 Working with time series\n",
    "\n",
    "In the previous section, we covered how to represent data organized in a flat table. As\n",
    "we noted, every row in the table was independent from the others; their order did not\n",
    "matter. \n",
    "\n",
    "we’ll switch to another\n",
    "interesting dataset: data from a Washington, D.C., bike-sharing system reporting the\n",
    "hourly count of rental bikes in 2011–2012 in the Capital Bikeshare system, along with\n",
    "weather and seasonal information. <b> Our goal\n",
    "will be to take a flat, 2D dataset and transform it into a 3D one</b>\n",
    "\n",
    "## 4.4.1 Adding a time dimension\n",
    " We want to change the row-per-hour\n",
    "organization so that we have one axis that increases at a rate of one day per index increment, and another axis that represents the hour of the day. The third axis will be our different columns of data."
   ]
  },
  {
   "cell_type": "code",
   "execution_count": 61,
   "metadata": {},
   "outputs": [
    {
     "data": {
      "text/plain": [
       "tensor([[1.0000e+00, 1.0000e+00, 1.0000e+00,  ..., 3.0000e+00, 1.3000e+01,\n",
       "         1.6000e+01],\n",
       "        [2.0000e+00, 1.0000e+00, 1.0000e+00,  ..., 8.0000e+00, 3.2000e+01,\n",
       "         4.0000e+01],\n",
       "        [3.0000e+00, 1.0000e+00, 1.0000e+00,  ..., 5.0000e+00, 2.7000e+01,\n",
       "         3.2000e+01],\n",
       "        ...,\n",
       "        [1.7377e+04, 3.1000e+01, 1.0000e+00,  ..., 7.0000e+00, 8.3000e+01,\n",
       "         9.0000e+01],\n",
       "        [1.7378e+04, 3.1000e+01, 1.0000e+00,  ..., 1.3000e+01, 4.8000e+01,\n",
       "         6.1000e+01],\n",
       "        [1.7379e+04, 3.1000e+01, 1.0000e+00,  ..., 1.2000e+01, 3.7000e+01,\n",
       "         4.9000e+01]])"
      ]
     },
     "execution_count": 61,
     "metadata": {},
     "output_type": "execute_result"
    }
   ],
   "source": [
    "bikes_numpy = np.loadtxt(\n",
    "    '../dlwpt-code/data/p1ch4/bike-sharing-dataset/hour-fixed.csv',\n",
    "    dtype = np.float32,\n",
    "    delimiter=',',\n",
    "    skiprows=1,\n",
    "    converters = {1: lambda x: float(x[8:10])} #converts date string to #'s correspond to day of month'\n",
    "    )\n",
    "\n",
    "bikes = torch.from_numpy(bikes_numpy)\n",
    "bikes"
   ]
  },
  {
   "cell_type": "code",
   "execution_count": 63,
   "metadata": {},
   "outputs": [
    {
     "data": {
      "text/plain": [
       "['instant',\n",
       " 'dteday',\n",
       " 'season',\n",
       " 'yr',\n",
       " 'mnth',\n",
       " 'hr',\n",
       " 'holiday',\n",
       " 'weekday',\n",
       " 'workingday',\n",
       " 'weathersit',\n",
       " 'temp',\n",
       " 'atemp',\n",
       " 'hum',\n",
       " 'windspeed',\n",
       " 'casual',\n",
       " 'registered',\n",
       " 'cnt']"
      ]
     },
     "execution_count": 63,
     "metadata": {},
     "output_type": "execute_result"
    }
   ],
   "source": [
    "col_list = next(csv.reader(open('../dlwpt-code/data/p1ch4/bike-sharing-dataset/hour-fixed.csv'),delimiter=','))\n",
    "col_list"
   ]
  },
  {
   "cell_type": "markdown",
   "metadata": {},
   "source": [
    " For the time being, we’re going to focus on learning how to turn our\n",
    "bike-sharing dataset into something that our neural network will be able to ingest in\n",
    "fixed-size chunks.This neural network model will need to see a number of sequences of values for\n",
    "each different quantity, such as ride count, time of day, temperature, and weather conditions:\n",
    "\n",
    "<b>We end up with N parallel sequences of size C. </b>\n",
    "- C stands for channel, in neural network parlance, and is the same as column for 1D data like we have here. \n",
    "- The N dimension represents the time axis, here one entry per hour.\n",
    "\n",
    "\n",
    "## 4.4.2 Shaping the data by time period\n",
    "\n",
    "We might want to break up the two-year dataset into wider observation periods, like\n",
    "days. This way we’ll have N (for number of samples) collections of C sequences of length\n",
    "L. <b>In other words, our time series dataset would be a tensor of dimension 3 and shape\n",
    "N × C × L.</b> The C would remain our 17 channels, while L would be 24: 1 per hour of\n",
    "the day. There’s no particular reason why we must use chunks of 24 hours, though the\n",
    "general daily rhythm is likely to give us patterns we can exploit for predictions. We\n",
    "could also use 7 × 24 = 168 hour blocks to chunk by week instead, if we desired. All of\n",
    "this depends, naturally, on our dataset having the right size—the number of rows must\n",
    "be a multiple of 24 or 168. Also, for this to make sense, we cannot have gaps in the\n",
    "time series\n",
    "\n",
    "First col is the index (the global ordering of the data), the second is the date, and the sixth is the time of day\n",
    "\n",
    "If our dataset wasnt already sorted we could use torch.sort()"
   ]
  },
  {
   "cell_type": "code",
   "execution_count": 65,
   "metadata": {},
   "outputs": [
    {
     "data": {
      "text/plain": [
       "(torch.Size([17520, 17]), (17, 1))"
      ]
     },
     "execution_count": 65,
     "metadata": {},
     "output_type": "execute_result"
    }
   ],
   "source": [
    "#to obtain daily hours, just view same tensor in batches of 24 hours\n",
    "bikes.shape, bikes.stride()"
   ]
  },
  {
   "cell_type": "code",
   "execution_count": 67,
   "metadata": {},
   "outputs": [
    {
     "data": {
      "text/plain": [
       "(torch.Size([730, 24, 17]), (408, 17, 1))"
      ]
     },
     "execution_count": 67,
     "metadata": {},
     "output_type": "execute_result"
    }
   ],
   "source": [
    "#That’s 17,520 hours, 17 columns. Now let’s reshape the data to have 3 axes—day, hour, and then our 17 columns:\n",
    "daily_bikes = bikes.view(-1,24,bikes.shape[1])\n",
    "daily_bikes.shape, daily_bikes.stride()"
   ]
  },
  {
   "cell_type": "markdown",
   "metadata": {},
   "source": [
    " calling <b>view</b> on a tensor returns a new tensor that changes the number of dimensions and the striding information, without\n",
    "changing the storage. This means we can rearrange our tensor at basically zero cost,\n",
    "because no data will be copied. Our call to view requires us to provide the new shape\n",
    "for the returned tensor. <b>We use -1 as a placeholder for “however many indexes are\n",
    "left, given the other dimensions and the original number of elements.”</b>\n",
    "\n",
    "    \n",
    "Remember also that storage is a contiguous, linear container for numbers (floating-point, in this case). Our bikes tensor will have each row\n",
    "stored one after the other in its corresponding storage. This is confirmed by the output from the call to bikes.stride() earlier.\n",
    "    \n",
    " For daily_bikes, the stride is telling us that advancing by 1 along the hour dimension (the second dimension) requires us to advance by 17 places in the storage (or\n",
    "one set of columns); whereas advancing along the day dimension (the first dimension) requires us to advance by a number of elements equal to the length of a row in\n",
    "the storage times 24 (here, 408, which is 17 × 24).\n",
    "\n",
    "<b>In other words, we now have N sequences of L hours in a day, for C channels. To get to our desired N × C × L ordering, we need to transpose the tensor:</b>"
   ]
  },
  {
   "cell_type": "code",
   "execution_count": 68,
   "metadata": {},
   "outputs": [
    {
     "data": {
      "text/plain": [
       "(torch.Size([730, 17, 24]), (408, 1, 17))"
      ]
     },
     "execution_count": 68,
     "metadata": {},
     "output_type": "execute_result"
    }
   ],
   "source": [
    "daily_bikes = daily_bikes.transpose(1,2)\n",
    "daily_bikes.shape, daily_bikes.stride()"
   ]
  },
  {
   "cell_type": "markdown",
   "metadata": {},
   "source": [
    "## 4.4.3 Ready for training\n",
    "\n",
    "\"Weather Situation\" variable is ordinal, could be treated as categorical or contiuous. If we got categorical we can OHE the variable. \n",
    "\n",
    " In order to make it easier to render our data, we’re going to limit ourselves to the\n",
    "first day for a moment. We initialize a zero-filled matrix with a number of rows equal\n",
    "to the number of hours in the day and number of columns equal to the number of\n",
    "weather levels:"
   ]
  },
  {
   "cell_type": "code",
   "execution_count": 71,
   "metadata": {},
   "outputs": [
    {
     "data": {
      "text/plain": [
       "tensor([1, 1, 1, 1, 1, 2, 1, 1, 1, 1, 1, 1, 1, 2, 2, 2, 2, 2, 3, 3, 2, 2, 2, 2])"
      ]
     },
     "execution_count": 71,
     "metadata": {},
     "output_type": "execute_result"
    }
   ],
   "source": [
    "first_day  = bikes[:24].long()\n",
    "weather_onehot = torch.zeros(first_day.shape[0],4)\n",
    "first_day[:,9]"
   ]
  },
  {
   "cell_type": "code",
   "execution_count": 72,
   "metadata": {},
   "outputs": [
    {
     "data": {
      "text/plain": [
       "tensor([[1., 0., 0., 0.],\n",
       "        [1., 0., 0., 0.],\n",
       "        [1., 0., 0., 0.],\n",
       "        [1., 0., 0., 0.],\n",
       "        [1., 0., 0., 0.],\n",
       "        [0., 1., 0., 0.],\n",
       "        [1., 0., 0., 0.],\n",
       "        [1., 0., 0., 0.],\n",
       "        [1., 0., 0., 0.],\n",
       "        [1., 0., 0., 0.],\n",
       "        [1., 0., 0., 0.],\n",
       "        [1., 0., 0., 0.],\n",
       "        [1., 0., 0., 0.],\n",
       "        [0., 1., 0., 0.],\n",
       "        [0., 1., 0., 0.],\n",
       "        [0., 1., 0., 0.],\n",
       "        [0., 1., 0., 0.],\n",
       "        [0., 1., 0., 0.],\n",
       "        [0., 0., 1., 0.],\n",
       "        [0., 0., 1., 0.],\n",
       "        [0., 1., 0., 0.],\n",
       "        [0., 1., 0., 0.],\n",
       "        [0., 1., 0., 0.],\n",
       "        [0., 1., 0., 0.]])"
      ]
     },
     "execution_count": 72,
     "metadata": {},
     "output_type": "execute_result"
    }
   ],
   "source": [
    "#Then scatter ones in our matrix. Remember to use unsqueeze to add a dimension\n",
    "weather_onehot.scatter_(\n",
    "            dim = 1,\n",
    "            index=first_day[:,9].unsqueeze(1).long() - 1, #decrease values by 1 so values match intergets\n",
    "            value=1.0)"
   ]
  },
  {
   "cell_type": "code",
   "execution_count": 77,
   "metadata": {},
   "outputs": [
    {
     "data": {
      "text/plain": [
       "tensor([[ 1.0000,  1.0000,  1.0000,  0.0000,  1.0000,  0.0000,  0.0000,  6.0000,\n",
       "          0.0000,  1.0000,  0.2400,  0.2879,  0.8100,  0.0000,  3.0000, 13.0000,\n",
       "         16.0000,  1.0000,  0.0000,  0.0000,  0.0000]])"
      ]
     },
     "execution_count": 77,
     "metadata": {},
     "output_type": "execute_result"
    }
   ],
   "source": [
    "#concatenate back to original dataset using \"cat\" along column dimension 1\n",
    "torch.cat((bikes[:24], weather_onehot), 1)[:1]"
   ]
  },
  {
   "cell_type": "markdown",
   "metadata": {},
   "source": [
    "For cat to succeed, it is required that the tensors have the same size along the other dimensions—the row dimension, in this case\n",
    "\n",
    "We could have done the same with the reshaped daily_bikes tensor. Remember\n",
    "that it is shaped (B, C, L), where L = 24. We first create the zero tensor, with the same\n",
    "B and L, but with the number of additional columns as C:"
   ]
  },
  {
   "cell_type": "code",
   "execution_count": 78,
   "metadata": {},
   "outputs": [
    {
     "data": {
      "text/plain": [
       "torch.Size([730, 4, 24])"
      ]
     },
     "execution_count": 78,
     "metadata": {},
     "output_type": "execute_result"
    }
   ],
   "source": [
    "daily_weather_onehot = torch.zeros(daily_bikes.shape[0],\n",
    "                                  4,\n",
    "                                  daily_bikes.shape[2])\n",
    "daily_weather_onehot.shape"
   ]
  },
  {
   "cell_type": "code",
   "execution_count": 79,
   "metadata": {},
   "outputs": [
    {
     "data": {
      "text/plain": [
       "torch.Size([730, 4, 24])"
      ]
     },
     "execution_count": 79,
     "metadata": {},
     "output_type": "execute_result"
    }
   ],
   "source": [
    "#Now scatter OHE into the tensor in the C dimension, performed in place so only content of this tensor will change\n",
    "daily_weather_onehot.scatter_(\n",
    "    1, daily_bikes[:,9,:].long().unsqueeze(1) - 1, 1.0)\n",
    "daily_weather_onehot.shape"
   ]
  },
  {
   "cell_type": "code",
   "execution_count": 83,
   "metadata": {},
   "outputs": [
    {
     "data": {
      "text/plain": [
       "torch.Size([730, 21, 24])"
      ]
     },
     "execution_count": 83,
     "metadata": {},
     "output_type": "execute_result"
    }
   ],
   "source": [
    "#then concatenate\n",
    "daily_bikes = torch.cat((daily_bikes, daily_weather_onehot), dim=1)\n",
    "daily_bikes.shape"
   ]
  },
  {
   "cell_type": "markdown",
   "metadata": {},
   "source": [
    "We mentioned earlier that this is not the only way to treat our “weather situation” variable. Indeed, its labels have an ordinal relationship, so we could pretend they are special values of a continuous variable. We could just transform the variable so that it runs from 0.0 to 1.0:"
   ]
  },
  {
   "cell_type": "code",
   "execution_count": 86,
   "metadata": {},
   "outputs": [
    {
     "data": {
      "text/plain": [
       "torch.Size([730, 24])"
      ]
     },
     "execution_count": 86,
     "metadata": {},
     "output_type": "execute_result"
    }
   ],
   "source": [
    "daily_bikes[:,9,:] = (daily_bikes[:,9,:] - 1.0) / 3.0"
   ]
  },
  {
   "cell_type": "markdown",
   "metadata": {},
   "source": [
    "There are multiple possibilities for rescaling variables. "
   ]
  },
  {
   "cell_type": "code",
   "execution_count": 87,
   "metadata": {},
   "outputs": [],
   "source": [
    "#can map range to (0,1), this is called MinMax Scaling\n",
    "temp = daily_bikes[:,10,:]\n",
    "temp_min = torch.min(temp)\n",
    "temp_max = torch.max(temp)\n",
    "daily_bikes[:,10,:] = ((daily_bikes[:,10,:] - temp_min)/ (temp_max - temp_min))\n",
    "\n",
    "#or subtract the mean and divide by std\n",
    "temp = daily_bikes[:, 10, :]\n",
    "daily_bikes[:,10,:] = ((daily_bikes[:,10,:] - torch.mean(temp))/ torch.std(temp))"
   ]
  },
  {
   "cell_type": "markdown",
   "metadata": {},
   "source": [
    "# 4.5 Representing text\n",
    "\n",
    " These models are called recurrent neural networks (RNNs), and they\n",
    "have been applied with great success to text categorization, text generation, and automated translation systems. More recently, a class of networks called transformers with a more flexible way to incorporate past information has made a big splash. \n",
    "\n",
    " Our goal in this section is to turn text into something a neural network can process: a tensor of numbers\n",
    " \n",
    "## 4.5.1 Converting text to numbers\n",
    "\n",
    "There are two particularly intuitive levels at which networks operate on text: at the\n",
    "character level, by processing one character at a time, and at the word level, where\n",
    "individual words are the finest-grained entities to be seen by the network. The technique with which we encode text information into tensor form is the same whether we\n",
    "operate at the character level or the word level.\n",
    "\n",
    " Let’s start with a character-level example and use the dataset Project Gutenberg. The exact file is Jane Austens Price and Prejudice. "
   ]
  },
  {
   "cell_type": "code",
   "execution_count": 98,
   "metadata": {},
   "outputs": [],
   "source": [
    "with open('../dlwpt-code/data/p1ch4/jane-austen/1342-0.txt', encoding='utf8') as f:\n",
    "    text = f.read()"
   ]
  },
  {
   "cell_type": "markdown",
   "metadata": {},
   "source": [
    "## 4.5.2 One-hot-encoding characters\n",
    "\n",
    "There’s one more detail we need to take care of before we proceed: encoding. This is\n",
    "a pretty vast subject, and we will just touch on it. Every written character is represented\n",
    "by a code: a sequence of bits of appropriate length so that each character can be\n",
    "uniquely identified (Unicode is the standard encoding of strings in python since it replaced ASCII). \n",
    "\n",
    "It is instrumental to limit the one-hot\n",
    "encoding to a character set that is useful for the text being analyzed. In our case, since\n",
    "we loaded text in English, it is safe to use ASCII and deal with a small encoding. We\n",
    "could also make all of the characters lowercase, to reduce the number of different\n",
    "characters in our encoding. Similarly, we could screen out punctuation, numbers, or\n",
    "other characters that aren’t relevant to our expected kinds of text. This may or may\n",
    "not make a practical difference to a neural network, depending on the task at hand.\n",
    "\n",
    "Each character will be represented by a vector of\n",
    "length equal to the number of different characters in the encoding. This vector will\n",
    "contain all zeros except a one at the index corresponding to the location of the character in the encoding"
   ]
  },
  {
   "cell_type": "code",
   "execution_count": 99,
   "metadata": {},
   "outputs": [
    {
     "name": "stdout",
     "output_type": "stream",
     "text": [
      "“Impossible, Mr. Bennet, impossible, when I am not acquainted with him\n"
     ]
    },
    {
     "data": {
      "text/plain": [
       "torch.Size([70, 128])"
      ]
     },
     "execution_count": 99,
     "metadata": {},
     "output_type": "execute_result"
    }
   ],
   "source": [
    "lines = text.split('\\n')\n",
    "line = lines[200]\n",
    "print(line)\n",
    "\n",
    "#now create a tensor that can hold total # of OHE variables\n",
    "letter_t = torch.zeros(len(line),128) #128 is hard coded due to limits of ASCII\n",
    "letter_t.shape"
   ]
  },
  {
   "cell_type": "markdown",
   "metadata": {},
   "source": [
    "Note that letter_t holds a one-hot-encoded character per row. Now we just have to\n",
    "set a one on each row in the correct position so that each row represents the correct\n",
    "character. The index where the one has to be set corresponds to the index of the character in the encoding:"
   ]
  },
  {
   "cell_type": "code",
   "execution_count": 100,
   "metadata": {},
   "outputs": [],
   "source": [
    "for i, letter in enumerate(line.lower().strip()):\n",
    "    letter_index = ord(letter) if ord(letter) < 128 else 0 #text uses directional dble quotes which arnt ASCII valid\n",
    "    letter_t[i][letter_index] = 1"
   ]
  },
  {
   "cell_type": "markdown",
   "metadata": {},
   "source": [
    "## 4.5.3 One-hot encoding whole words\n",
    "We have one-hot encoded our sentence into a representation that a neural network\n",
    "could digest. Word-level encoding can be done the same way by establishing a vocabulary and one-hot encoding sentences—sequences of words—along the rows of our\n",
    "tensor. Since a vocabulary has many words, this will produce very wide encoded vectors, which may not be practical. We will see in the next section that there is a more\n",
    "efficient way to represent text at the word level, using embeddings. For now, let’s stick\n",
    "with one-hot encodings and see what happens."
   ]
  },
  {
   "cell_type": "code",
   "execution_count": 103,
   "metadata": {},
   "outputs": [
    {
     "data": {
      "text/plain": [
       "('“Impossible, Mr. Bennet, impossible, when I am not acquainted with him',\n",
       " ['impossible',\n",
       "  'mr',\n",
       "  'bennet',\n",
       "  'impossible',\n",
       "  'when',\n",
       "  'i',\n",
       "  'am',\n",
       "  'not',\n",
       "  'acquainted',\n",
       "  'with',\n",
       "  'him'])"
      ]
     },
     "execution_count": 103,
     "metadata": {},
     "output_type": "execute_result"
    }
   ],
   "source": [
    "#first we need to clean the words\n",
    "def clean_words(input_str):\n",
    "    punctuation = '.,;:\"!?”“_-'\n",
    "    word_list = input_str.lower().replace('\\n',' ').split()\n",
    "    word_list = [word.strip(punctuation) for word in word_list]\n",
    "    return word_list\n",
    "\n",
    "\n",
    "words_in_line = clean_words(line)\n",
    "line, words_in_line"
   ]
  },
  {
   "cell_type": "code",
   "execution_count": 104,
   "metadata": {},
   "outputs": [
    {
     "data": {
      "text/plain": [
       "(7261, 3394)"
      ]
     },
     "execution_count": 104,
     "metadata": {},
     "output_type": "execute_result"
    }
   ],
   "source": [
    "#now lets build a mapping of indexes to our encoding\n",
    "word_list = sorted(set(clean_words(text)))\n",
    "\n",
    "word2index_dict = {word: i for (i, word) in enumerate(word_list)}\n",
    "len(word2index_dict), word2index_dict['impossible']"
   ]
  },
  {
   "cell_type": "code",
   "execution_count": 105,
   "metadata": {},
   "outputs": [
    {
     "name": "stdout",
     "output_type": "stream",
     "text": [
      " 0 3394 impossible\n",
      " 1 4305 mr\n",
      " 2  813 bennet\n",
      " 3 3394 impossible\n",
      " 4 7078 when\n",
      " 5 3315 i\n",
      " 6  415 am\n",
      " 7 4436 not\n",
      " 8  239 acquainted\n",
      " 9 7148 with\n",
      "10 3215 him\n"
     ]
    }
   ],
   "source": [
    "#now we can use word2index_dict to efficiently find the index of a word as we OHE it\n",
    "#we break up the senctence into words and one-hot encode it (i.e. we populate a tensor w/ 1 OHE vector of a word)\n",
    "\n",
    "word_t = torch.zeros(len(words_in_line), len(word2index_dict))\n",
    "for i, word in enumerate(words_in_line):\n",
    "    word_index = word2index_dict[word]\n",
    "    word_t[i][word_index] = 1\n",
    "    print('{:2} {:4} {}'.format(i,word_index, word))"
   ]
  },
  {
   "cell_type": "markdown",
   "metadata": {},
   "source": [
    "## 4.5.4 Text embeddings\n",
    "\n",
    "As we have anticipated, one-hot encoding starts to break down when\n",
    "the number of items to encode is effectively unbound, as with words in a corpus.\n",
    "\n",
    "We certainly could do some work to deduplicate words, condense alternate spellings, collapse past and future tenses into a single token, and that kind of thing. Still, a\n",
    "general-purpose English-language encoding would be huge. Even worse, every time we\n",
    "encountered a new word, we would have to add a new column to the vector, which\n",
    "would mean adding a new set of weights to the model to account for that new vocabulary entry—which would be painful from a training perspective.\n",
    "\n",
    " <b>How can we compress our encoding down to a more manageable size and put a\n",
    "cap on the size growth? </b>\n",
    "\n",
    "Well, instead of vectors of many zeros and a single one, we can use vectors of floating-point numbers. A vector of, say, 100 floating-point numbers can\n",
    "indeed represent a large number of words. The trick is to find an effective way to map\n",
    "individual words into this 100-dimensional space in a way that facilitates downstream\n",
    "learning. This is called an <b>embedding</b>\n",
    "\n",
    "\n",
    "In principle, we could simply iterate over our vocabulary and generate a set of 100\n",
    "random floating-point numbers for each word. This would work, in that we could\n",
    "cram a very large vocabulary into just 100 numbers, but it would forgo any concept of\n",
    "distance between words based on meaning or context. A model using this word\n",
    "embedding would have to deal with very little structure in its input vectors. An ideal\n",
    "solution would be to generate the embedding in such a way that words used in similar\n",
    "contexts mapped to nearby regions of the embedding."
   ]
  },
  {
   "cell_type": "markdown",
   "metadata": {},
   "source": [
    " By processing a large corpus of organic text, embeddings similar to the one we just discussed\n",
    "can be generated. The main differences are that there are 100 to 1,000 elements in\n",
    "the embedding vector and that axes do not map directly to concepts: rather, conceptually similar words map in neighboring regions of an embedding space whose axes\n",
    "are arbitrary floating-point dimensions.\n",
    "\n",
    "<b>The embeddings are a parameter of a Neural Network that is learned during training</b>\n",
    "\n",
    "## 4.5.5 Text embeddings as a blueprint\n",
    "\n",
    "We believe that how text is represented and processed can also be seen as an example for\n",
    "dealing with categorical data in general. Embeddings are useful wherever one-hot\n",
    "encoding becomes cumbersome. Indeed, in the form described previously, they are\n",
    "an efficient way of representing one-hot encoding immediately followed by multiplication with the matrix containing the embedding vectors as rows."
   ]
  }
 ],
 "metadata": {
  "kernelspec": {
   "display_name": "facial_rec",
   "language": "python",
   "name": "facial_rec"
  },
  "language_info": {
   "codemirror_mode": {
    "name": "ipython",
    "version": 3
   },
   "file_extension": ".py",
   "mimetype": "text/x-python",
   "name": "python",
   "nbconvert_exporter": "python",
   "pygments_lexer": "ipython3",
   "version": "3.7.7"
  },
  "toc": {
   "base_numbering": 1,
   "nav_menu": {},
   "number_sections": true,
   "sideBar": true,
   "skip_h1_title": false,
   "title_cell": "Table of Contents",
   "title_sidebar": "Contents",
   "toc_cell": false,
   "toc_position": {},
   "toc_section_display": true,
   "toc_window_display": false
  }
 },
 "nbformat": 4,
 "nbformat_minor": 4
}
